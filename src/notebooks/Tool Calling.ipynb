{
 "cells": [
  {
   "cell_type": "markdown",
   "metadata": {},
   "source": [
    "## Tool Calling or Function Calling\n",
    "- LLM Automatically calls the function based on the query\n",
    "- Function parameters are automatically passed to the function\n",
    "- It is one of the essential requirements of the Agent\n",
    "- Not all LLM supports tool calling."
   ]
  },
  {
   "cell_type": "markdown",
   "metadata": {},
   "source": [
    "- Chat models that support tool calling features implement a .bind_tools() method for passing tool schemas to the model."
   ]
  },
  {
   "cell_type": "code",
   "execution_count": 1,
   "metadata": {},
   "outputs": [
    {
     "data": {
      "text/plain": [
       "True"
      ]
     },
     "execution_count": 1,
     "metadata": {},
     "output_type": "execute_result"
    }
   ],
   "source": [
    "from dotenv import load_dotenv\n",
    "\n",
    "load_dotenv()"
   ]
  },
  {
   "cell_type": "code",
   "execution_count": 2,
   "metadata": {},
   "outputs": [
    {
     "data": {
      "text/plain": [
       "AIMessage(content='Hello! How can I assist you today?', additional_kwargs={}, response_metadata={'model': 'llama3.2:3b', 'created_at': '2025-04-08T03:18:26.78572Z', 'done': True, 'done_reason': 'stop', 'total_duration': 3173353084, 'load_duration': 718822084, 'prompt_eval_count': 26, 'prompt_eval_duration': 2266340542, 'eval_count': 10, 'eval_duration': 186342625, 'message': Message(role='assistant', content='', images=None, tool_calls=None)}, id='run-ccc05457-1151-41ec-8eed-c34047eed125-0', usage_metadata={'input_tokens': 26, 'output_tokens': 10, 'total_tokens': 36})"
      ]
     },
     "execution_count": 2,
     "metadata": {},
     "output_type": "execute_result"
    }
   ],
   "source": [
    "from langchain_ollama import ChatOllama \n",
    "from langchain_core.output_parsers import StrOutputParser\n",
    "from langchain_core.runnables import RunnablePassthrough \n",
    "from langchain_core.prompts import ChatPromptTemplate\n",
    "\n",
    "llm = ChatOllama(model='llama3.2:3b', base_url='http://localhost:11434')\n",
    "llm.invoke('hi')"
   ]
  },
  {
   "cell_type": "markdown",
   "metadata": {},
   "source": [
    "### Custom Tools"
   ]
  },
  {
   "cell_type": "code",
   "execution_count": 3,
   "metadata": {},
   "outputs": [],
   "source": [
    "### Tool Creation\n",
    "\n",
    "from langchain_core.tools import tool\n",
    "\n",
    "@tool\n",
    "def add(a, b):\n",
    "    \"\"\"\n",
    "    Add two integer numbers together\n",
    "    \n",
    "    Args:\n",
    "    a: First Integer\n",
    "    b: Second Integer\n",
    "    \"\"\"\n",
    "    return a + b\n",
    "\n",
    "@tool\n",
    "def multiply(a, b):\n",
    "    \"\"\"\n",
    "    Multiply two integer numbers together\n",
    "    \n",
    "    Args:\n",
    "    a: First Integer\n",
    "    b: Second Integer\n",
    "    \"\"\"\n",
    "    return a * b\n",
    "\n",
    "\n"
   ]
  },
  {
   "cell_type": "code",
   "execution_count": 4,
   "metadata": {},
   "outputs": [
    {
     "data": {
      "text/plain": [
       "('add',\n",
       " 'Add two integer numbers together\\n\\nArgs:\\na: First Integer\\nb: Second Integer',\n",
       " {'a': {'title': 'A'}, 'b': {'title': 'B'}},\n",
       " {'description': 'Add two integer numbers together\\n\\nArgs:\\na: First Integer\\nb: Second Integer',\n",
       "  'properties': {'a': {'title': 'A'}, 'b': {'title': 'B'}},\n",
       "  'required': ['a', 'b'],\n",
       "  'title': 'add',\n",
       "  'type': 'object'})"
      ]
     },
     "execution_count": 4,
     "metadata": {},
     "output_type": "execute_result"
    }
   ],
   "source": [
    "add.name, add.description, add.args, add.args_schema.schema()"
   ]
  },
  {
   "cell_type": "code",
   "execution_count": 5,
   "metadata": {},
   "outputs": [
    {
     "data": {
      "text/plain": [
       "3"
      ]
     },
     "execution_count": 5,
     "metadata": {},
     "output_type": "execute_result"
    }
   ],
   "source": [
    "add.invoke({'a': 1, 'b': 2})"
   ]
  },
  {
   "cell_type": "code",
   "execution_count": 6,
   "metadata": {},
   "outputs": [
    {
     "data": {
      "text/plain": [
       "134"
      ]
     },
     "execution_count": 6,
     "metadata": {},
     "output_type": "execute_result"
    }
   ],
   "source": [
    "multiply.invoke({'a': 67, 'b': 2})"
   ]
  },
  {
   "cell_type": "code",
   "execution_count": 7,
   "metadata": {},
   "outputs": [],
   "source": [
    "tools = [add, multiply]\n",
    "\n",
    "llm_with_tools = llm.bind_tools(tools)"
   ]
  },
  {
   "cell_type": "code",
   "execution_count": 8,
   "metadata": {},
   "outputs": [
    {
     "data": {
      "text/plain": [
       "[{'name': 'add',\n",
       "  'args': {'a': '1', 'b': '2'},\n",
       "  'id': 'e5e9e71d-ce95-4966-82a7-00be81befa10',\n",
       "  'type': 'tool_call'}]"
      ]
     },
     "execution_count": 8,
     "metadata": {},
     "output_type": "execute_result"
    }
   ],
   "source": [
    "question  = \"what is 1 plus 2?\"\n",
    "llm_with_tools.invoke(question).tool_calls"
   ]
  },
  {
   "cell_type": "code",
   "execution_count": 9,
   "metadata": {},
   "outputs": [
    {
     "data": {
      "text/plain": [
       "[{'name': 'multiply',\n",
       "  'args': {'a': '1', 'b': '2'},\n",
       "  'id': 'b82a4145-1911-4695-b3f6-df0775eaa4b3',\n",
       "  'type': 'tool_call'}]"
      ]
     },
     "execution_count": 9,
     "metadata": {},
     "output_type": "execute_result"
    }
   ],
   "source": [
    "question  = \"what is 1 multiplied by 2?\"\n",
    "llm_with_tools.invoke(question).tool_calls"
   ]
  },
  {
   "cell_type": "code",
   "execution_count": 10,
   "metadata": {},
   "outputs": [
    {
     "data": {
      "text/plain": [
       "[{'name': 'multiply',\n",
       "  'args': {'a': '1', 'b': '2'},\n",
       "  'id': '4f196d51-9863-401c-af88-f29428e2cf08',\n",
       "  'type': 'tool_call'},\n",
       " {'name': 'add',\n",
       "  'args': {'a': '11', 'b': '22'},\n",
       "  'id': 'f84be3d4-90fc-421b-bc7e-8f26a152cffa',\n",
       "  'type': 'tool_call'}]"
      ]
     },
     "execution_count": 10,
     "metadata": {},
     "output_type": "execute_result"
    }
   ],
   "source": [
    "question  = \"what is 1 multiplied by 2, also what is 11 plus 22?\"\n",
    "llm_with_tools.invoke(question).tool_calls"
   ]
  },
  {
   "cell_type": "markdown",
   "metadata": {},
   "source": [
    "## Calling In-Built Tool \n",
    "### DuckDuckGo Search\n",
    "- There are so many other paid options are also available like Tavily, Google, Bing, etc."
   ]
  },
  {
   "cell_type": "code",
   "execution_count": 11,
   "metadata": {},
   "outputs": [],
   "source": [
    "# https://python.langchain.com/docs/integrations/tools/\n",
    "\n",
    "# !pip install -qU duckduckgo-search wikipedia xmltodict tavily-python"
   ]
  },
  {
   "cell_type": "code",
   "execution_count": 12,
   "metadata": {},
   "outputs": [
    {
     "data": {
      "text/plain": [
       "\"The Nasdaq Composite (^IXIC) rose 0.6%. The S&P 500 (^GSPC) popped about about 0.7%, and the Dow Jones Industrial Average (^DJI) added more than 1%, or nearly 450 points. Both the Dow and S&P 500 ... Stock market today: Dow tumbles 400 points, tech leads Nasdaq, S&P 500 lower as 10-year yield tops 4% Karen Friar · Editor Mon, Oct 7, 2024, 4:01 PM 1 min read ES=F. US stocks rose on Monday with two major indexes clinching record closes as Nvidia (NVDA) led a risk-on rally in the market that permeated through most sectors and even into cryptocurrencies ... Find the latest stock market news from every corner of the globe at Reuters.com, your online source for breaking international market and finance news The analysis you'll find in the Stock Market Today is based on over 130 years of market history and a detailed study of every top-performing stock since the 1880s. By tracking the market in terms ...\""
      ]
     },
     "execution_count": 12,
     "metadata": {},
     "output_type": "execute_result"
    }
   ],
   "source": [
    "from langchain_community.tools import DuckDuckGoSearchRun\n",
    "\n",
    "search = DuckDuckGoSearchRun()\n",
    "\n",
    "search.invoke(\"What is today's stock market news?\")"
   ]
  },
  {
   "cell_type": "markdown",
   "metadata": {},
   "source": [
    "### Tavily Search"
   ]
  },
  {
   "cell_type": "code",
   "execution_count": 13,
   "metadata": {},
   "outputs": [],
   "source": [
    "from langchain_community.tools import TavilySearchResults\n",
    "\n",
    "search = TavilySearchResults(\n",
    "    max_results=5,\n",
    "    search_depth=\"advanced\",\n",
    "    include_answer=True,\n",
    "    include_raw_content=True,\n",
    ")"
   ]
  },
  {
   "cell_type": "code",
   "execution_count": 14,
   "metadata": {},
   "outputs": [
    {
     "data": {
      "text/plain": [
       "[{'url': 'https://www.investors.com/news/stock-market-today-stock-market-news/',\n",
       "  'content': \"Today: Stock Market News And Analysis\\nLATEST MARKET UPDATES\\nCurrent Recommended Market Exposure Level\\nSTOCK MARKET TODAY\\nWith regular updates throughout each trading session, the Stock Market Today column highlights the latest stock market news and alerts you to any changes in market trend. By tracking the market in terms of three stages\\xa0—\\xa0market in uptrend, uptrend under pressure and market correction — the Stock Market Today helps you stay on top of the latest stock market news while keeping any latest fluctuations in perspective to help you decide what action, if any, to take.\\n Start With This 3-Step Routine\\nSee Which Stocks Were Just Added To – And Removed From – IBD Stock Lists\\nHow To Buy Stocks\\xa0|\\xa0Buying Checklist\\nWhen To Sell Stocks\\xa0|\\xa0Selling Checklist\\nIBD Newsletters\\nIBD Newsletters\\nGet these newsletters delivered to your inbox & more info about our products & services. How much market cap...\\nToday's Spotlight\\nFree Investing Webinar\\nMarketSmith Cyber Week Sale\\nJoin MarketDiem for $20/Year\\nMore News\\nNvidia shares have raced ahead in the last year on the chipmaker's strength in AI applications. Bookmark this page to make sure you stay on top of all the latest action action and stock market news, and be sure to check The Big Picture after each market close for more detailed analysis and stocks to watch.\\n\"},\n",
       " {'url': 'https://stockanalysis.com/news/',\n",
       "  'content': \"Everyone else, from companies to investors, is still bracin...\\nFighting the Fed is 'not an intelligent idea', says Trivariate's Adam Parker\\nAdam Parker, Trivariate Research, joins 'Squawk on the Street' to discuss how Parker characterizes the recent rally in equities we've seen, if the market is overbought at these levels, and the bull ca...\\nMarket is pricing in more aggressive Fed rate cuts than expected, says Principal Asset's Seema Shah\\nSeema Shah, Principal Asset Management chief global strategist, joins 'Squawk Box' to discuss the latest market trends ahead of the opening bell on Wednesday.\\n There was greater optimism in consumers' assessments of both current business and labor market conditions and those they ex...\\nFrances Donald: Inflation below 2% is a risk for 2024 as well\\nFrances Donald, chief economist at Manulife Investment Management, joins Bloomberg Radio to discuss markets, the Fed, and outlook for a soft or hard landing in 2024\\nS&P 500 at most overbought level since September 2020, here's what it could mean for investors\\nStocks have rallied to reach their most overbought level in over three years.\\n Particularly, for reasons that will become obvious in just a bit, small-capitalization stocks d...\\nSticky inflation in a key part of the economy is the biggest barrier to Fed rate cuts\\nThe Federal Reserve is winning the battle against high inflation, but the fight is not over yet, a parade of senior bank officials told Wall Street this week.\\n Wall Street ends higher as rate-cut fever lingers\\nNEW YORK, Dec 19 (Reuters) - Wall Street extended its rally on Tuesday, advancing on the day as last week's dovish policy pivot from the Federal Reserve continued to reverberate and investors looked a...\\nInflation, not politics or markets, will determine Fed's next move -Goolsbee\\nDec 19 (Reuters) - Further progress on beating back inflation will be the decisive factor in any Federal Reserve decision next year to reduce interest rates, Chicago Federal Reserve Bank President S&P 500 Inches Within 0.6% Of All-Time High As Fed Left ‘Confused' By Recent Stock Surge\\nStocks rallied again Tuesday, sending several indexes to record highs as the closely watched S&P 500 neared its highest level, as the market steamrolls through the end of 2023 thanks in large part to ...\\nStock News\\nDaily market news in bullet point format.\\n\"},\n",
       " {'url': 'https://finance.yahoo.com/',\n",
       "  'content': \"Associated Press Finance\\nEuropean stocks waver as economic picture darkens\\nBloomberg\\nTreasuries yields rise after slide in Europe bonds\\nBloomberg\\nNvidia delays China launch of AI chip tailored to US curbs\\nReuters\\nCoinbase stock rallies, Virgin Galactic slides: Top Stocks\\nYahoo Finance Video\\nFoot Locker's missteps that led to a downgrade\\nYahoo Finance Video\\nNvidia to see impressive growth: Analyst\\nYahoo Finance\\nCrypto's next steps after the humbling of Binance\\nYahoo Finance\\nTips to avoid credit card fraud, scams this holiday season\\nYahoo Personal Finance\\nDow Jones Futures Rise: Nvidia Rival Leads 4 Stocks In Buy Zones; Tesla Move Signals Elon Musk Fallout\\n Is the Stock Market Open or Closed on Thanksgiving?\\nThe New York Stock Exchange and the Nasdaq Stock Market will be closed on Thursday in observance of Thanksgiving, as will the U.S. bond market.\\n Premium analysis from Morningstar & Argus\\nAXA SA: AXA’s Tilt to Commercial Insurance and Technical Income Shows Nascent Positive Signs\\nCRH plc: CRH's $1.1 Billion Divestment Reinforces Its Exposure to Fast-Growing End Markets\\nJohnson Controls International plc: Retailers brace for a penny-pinching Black Friday\\nConcerns are growing that a spending slowdown could temper sales on the day after Thanksgiving and throughout the holidays.\\n Walmart Unveils Major Change Ahead of Black Friday\\nAct fast – Why the best deals are vanishing before Black Friday!\\n\"},\n",
       " {'url': 'https://finance.yahoo.com/topic/stock-market-news',\n",
       "  'content': 'Get the latest news on the stock market and events that move stocks, with in-depth analyses to help you make investing and trading decisions.'},\n",
       " {'url': 'https://www.cnn.com/markets/',\n",
       "  'content': \"Today's hot stocks\\nWorld markets\\nBusiness Briefing\\nShow\\xa0all\\nEconomic calendar\\nCommodities\\nETF movers\\nCryptos\\nCurrencies\\nBonds & rates\\n The Dow Jones branded indices are proprietary to and are calculated, distributed and marketed by DJI Opco, a subsidiary of S&P Dow Jones Indices LLC and have been licensed for use to S&P Opco, LLC and CNN. You understand CNN\\nand its affiliates may use your\\naddress to send updates, ads, and offers.\\n You understand CNN and its affiliates may use your\\naddress to send updates, ads, and offers.\\n You can now see all your newsletters\\nWe're unable to subscribe you at this time, please try later.\\n\"}]"
      ]
     },
     "execution_count": 14,
     "metadata": {},
     "output_type": "execute_result"
    }
   ],
   "source": [
    "question = \"what is today's stock market news?\"\n",
    "search.invoke(question)"
   ]
  },
  {
   "cell_type": "markdown",
   "metadata": {},
   "source": [
    "### Wikipedia Search"
   ]
  },
  {
   "cell_type": "code",
   "execution_count": 15,
   "metadata": {},
   "outputs": [
    {
     "name": "stdout",
     "output_type": "stream",
     "text": [
      "Page: Large language model\n",
      "Summary: A large language model (LLM) is a type of computational model designed for natural language processing tasks such as language generation. As language models, LLMs acquire these abilities by learning statistical relationships from vast amounts of text during a self-supervised and semi-supervised training process.\n",
      "The largest and most capable LLMs are artificial neural networks built with a decoder-only transformer-based architecture, enabling efficient processing and generation of large-scale text data. Modern models can be fine-tuned for specific tasks, or be guided by prompt engineering. These models acquire predictive power regarding syntax, semantics, and ontologies inherent in human language corpora, but they also inherit inaccuracies and biases present in the data on which they are trained.\n",
      "\n",
      "Page: Prompt engineering\n",
      "Summary: Prompt engineering is the process of structuring an instruction that can be interpreted and understood by a generative artificial intelligence (AI) model. \n",
      "A prompt is natural language text describing the task that an AI should perform. A prompt for a text-to-text language model can be a query such as \"what is Fermat's little theorem?\", a command such as \"write a poem in the style of Edgar Allan Poe about leaves falling\", or a longer statement including context, instructions, and conversation history.\n",
      "Prompt engineering may involve phrasing a query, specifying a style, providing relevant context or assigning a role to the AI such as \"act as a native French speaker\".\n",
      "A prompt may include a few examples for a model to learn from, such as asking the model to complete \"maison → house, chat → cat, chien →\" (the expected response being dog), an approach called few-shot learning.\n",
      "When communicating with a text-to-image or a text-to-audio model, a typical prompt is a description of a desired output such as \"a high-quality photo of an astronaut riding a horse\" or \"Lo-fi slow BPM electro chill with organic samples\". Prompting a text-to-image model may involve adding, removing, emphasizing, and re-ordering words to achieve a desired subject, style, layout, lighting, and aesthetic.\n",
      "\n",
      "\n",
      "\n",
      "Page: Llama (language model)\n",
      "Summary: Llama (Large Language Model Meta AI, formerly stylized as LLaMA) is a family of autoregressive large language models (LLMs) released by Meta AI starting in February 2023. The latest version is Llama 3.2, released in September 2024.\n",
      "Model weights for the first version of Llama were made available to the research community under a non-commercial license, and access was granted on a case-by-case basis. Unauthorized copies of the model were shared via BitTorrent. In response, Meta AI issued DMCA takedown requests against repositories sharing the link on GitHub. Subsequent versions of Llama were made accessible outside academia and released under licenses that permitted some commercial use. Llama models are trained at different parameter sizes, ranging between 1B and 405B. Originally, Llama was only available as a foundation model. Starting with Llama 2, Meta AI started releasing instruction fine-tuned versions alongside foundation models.\n",
      "Alongside the release of Llama 3, Meta added virtual assistant features to Facebook and WhatsApp in select regions, and a standalone website. Both services use a Llama 3 model.\n"
     ]
    }
   ],
   "source": [
    "from langchain_community.tools import WikipediaQueryRun\n",
    "from langchain_community.utilities import WikipediaAPIWrapper\n",
    "\n",
    "\n",
    "wikipedia = WikipediaQueryRun(api_wrapper=WikipediaAPIWrapper())\n",
    "\n",
    "\n",
    "question = \"what is the capital of France?\"\n",
    "question = \"What is LLM?\"\n",
    "\n",
    "print(wikipedia.invoke(question))"
   ]
  },
  {
   "cell_type": "markdown",
   "metadata": {},
   "source": [
    "### PubMed"
   ]
  },
  {
   "cell_type": "markdown",
   "metadata": {},
   "source": [
    "- PubMed® comprises more than 35 million citations for biomedical literature from MEDLINE, life science journals, and online books. Citations may include links to full text content from PubMed Central and publisher web sites.\n",
    "\n"
   ]
  },
  {
   "cell_type": "code",
   "execution_count": 16,
   "metadata": {},
   "outputs": [
    {
     "name": "stdout",
     "output_type": "stream",
     "text": [
      "Published: 2024-10-30\n",
      "Title: Are Repeat-Dose Toxicity Studies Informative for Safety Assessment of Vaccine Candidates? A Survey of Vaccine Developers.\n",
      "Copyright Information: \n",
      "Summary::\n",
      "A BioSafe-sponsored survey investigated how vaccine companies (n = 12) perceive the value of the repeat-dose toxicity studies for safety assessment of vaccine candidates. As all major vaccine developers were part of the survey, it was considered representative for the industry practices up to 2022. Vaccine developers indicated that they see scientific value in performing repeat-dose toxicity studies with vaccines, especially when novel components (e.g., adjuvant) or technology is being used. However, a few (3/12) also indicated that repeat-dose toxicity studies could be replaced by a pharmacology study with additional toxicity parameters. For the majority of companies (9/12), findings from the repeat-dose toxicity studies never prevented or postponed a first-in-human (FIH) trial. In the remaining 3 companies, a total of 4 occurrences of postponement or prevention of clinical development occurred and in only 2 of these cases was the finding considered related to the vaccine. A platform approach has been successfully implemented for influenza vaccines already in 2016, and an outline of the regulatory requirements for a platform approach has been recently documented in the latest infectious disease mRNA-LNP vaccine guideline, as well as in the guidance on the development and licensure of COVID-19 vaccines presented by the FDA. Vaccine developers are seeking to extend this platform approach to the development of new vaccines, building on established technologies and using well-defined manufacturing processes. This approach could support reduction of animal use (a principle of 3Rs) while still providing reassurance of the nonclinical safety of these products.\n",
      "\n",
      "Published: 2024-10-26\n",
      "Title: International congress on transposable elements (ICTE 2024) in Saint Malo: breaking down transposon wa\n"
     ]
    }
   ],
   "source": [
    "from langchain_community.tools.pubmed.tool import PubmedQueryRun\n",
    "\n",
    "search = PubmedQueryRun()\n",
    "\n",
    "print(search.invoke(\"What is the latest research on COVID-19?\"))"
   ]
  },
  {
   "cell_type": "markdown",
   "metadata": {},
   "source": [
    "### Tool Calling with LLM"
   ]
  },
  {
   "cell_type": "code",
   "execution_count": 33,
   "metadata": {},
   "outputs": [],
   "source": [
    "@tool\n",
    "def wikipedia_search(query):\n",
    "    \"\"\"\n",
    "    Search wikipedia for general information.\n",
    "    \n",
    "    Args:\n",
    "    query: The search query\n",
    "    \"\"\"\n",
    "    \n",
    "    wikipedia = WikipediaQueryRun(api_wrapper=WikipediaAPIWrapper())\n",
    "    response = wikipedia.invoke(query)\n",
    "    return response\n",
    "\n",
    "@tool\n",
    "def pubmed_search(query):\n",
    "    \"\"\"\n",
    "    Search pubmed for medical and life sciences queries.\n",
    "    \n",
    "    Args:\n",
    "    query: The search query\n",
    "    \"\"\"\n",
    "    \n",
    "    search = PubmedQueryRun()\n",
    "    response = search.invoke(query)\n",
    "    return response\n",
    "\n",
    "@tool\n",
    "def tavily_search(query):\n",
    "    \"\"\"\n",
    "    Search the web for realtime and latest information.\n",
    "    for examples, news, stock market, weather updates etc.\n",
    "    \n",
    "    Args:\n",
    "    query: The search query\n",
    "    \"\"\"\n",
    "    \n",
    "    search = TavilySearchResults(\n",
    "        max_results=5,\n",
    "        search_depth=\"advanced\",\n",
    "        include_answer=True,\n",
    "        include_raw_content=True,\n",
    "    )\n",
    "    response = search.invoke(query)\n",
    "    return response\n",
    "\n",
    "\n",
    "@tool\n",
    "def multiply(a:int, b:int)->int:\n",
    "    \"\"\"\n",
    "    Multiply two integer numbers together\n",
    "    \n",
    "    Args:\n",
    "    a: First Integer\n",
    "    b: Second Integer\n",
    "    \"\"\"\n",
    "    return int(a) * int(b)\n"
   ]
  },
  {
   "cell_type": "code",
   "execution_count": 34,
   "metadata": {},
   "outputs": [],
   "source": [
    "tools = [wikipedia_search, pubmed_search, tavily_search, multiply]\n",
    "\n",
    "list_of_tools = { tool.name: tool for tool in tools }"
   ]
  },
  {
   "cell_type": "code",
   "execution_count": 35,
   "metadata": {},
   "outputs": [
    {
     "data": {
      "text/plain": [
       "{'wikipedia_search': StructuredTool(name='wikipedia_search', description='Search wikipedia for general information.\\n\\nArgs:\\nquery: The search query', args_schema=<class 'langchain_core.utils.pydantic.wikipedia_search'>, func=<function wikipedia_search at 0x00000237373C9080>),\n",
       " 'pubmed_search': StructuredTool(name='pubmed_search', description='Search pubmed for medical and life sciences queries.\\n\\nArgs:\\nquery: The search query', args_schema=<class 'langchain_core.utils.pydantic.pubmed_search'>, func=<function pubmed_search at 0x00000237373C8B80>),\n",
       " 'tavily_search': StructuredTool(name='tavily_search', description='Search the web for realtime and latest information.\\nfor examples, news, stock market, weather updates etc.\\n\\nArgs:\\nquery: The search query', args_schema=<class 'langchain_core.utils.pydantic.tavily_search'>, func=<function tavily_search at 0x00000237373C9C60>),\n",
       " 'multiply': StructuredTool(name='multiply', description='Multiply two integer numbers together\\n\\nArgs:\\na: First Integer\\nb: Second Integer', args_schema=<class 'langchain_core.utils.pydantic.multiply'>, func=<function multiply at 0x00000237373CB2E0>)}"
      ]
     },
     "execution_count": 35,
     "metadata": {},
     "output_type": "execute_result"
    }
   ],
   "source": [
    "list_of_tools"
   ]
  },
  {
   "cell_type": "code",
   "execution_count": 36,
   "metadata": {},
   "outputs": [],
   "source": [
    "llm_with_tools = llm.bind_tools(tools)"
   ]
  },
  {
   "cell_type": "code",
   "execution_count": 37,
   "metadata": {},
   "outputs": [
    {
     "name": "stdout",
     "output_type": "stream",
     "text": [
      "[{'name': 'multiply', 'args': {'a': '2', 'b': '3'}, 'id': '13b56069-3b00-4de6-88c6-13b6fdffb89a', 'type': 'tool_call'}]\n"
     ]
    }
   ],
   "source": [
    "# query = \"What is the latest news\"\n",
    "# query = \"What is today's stock market news?\"\n",
    "# query = \"What is LLM?\"\n",
    "# query = \"How to treat lung cancer?\"\n",
    "query  = \"what is 2 * 3?\"\n",
    "response = llm_with_tools.invoke(query)\n",
    "print(response.tool_calls)"
   ]
  },
  {
   "cell_type": "markdown",
   "metadata": {},
   "source": [
    "### Generate Final Result with Tool Calling"
   ]
  },
  {
   "cell_type": "code",
   "execution_count": 38,
   "metadata": {},
   "outputs": [],
   "source": [
    "from langchain_core.messages import HumanMessage, AIMessage"
   ]
  },
  {
   "cell_type": "code",
   "execution_count": 39,
   "metadata": {},
   "outputs": [],
   "source": [
    "# query = \"What is the latest news\"\n",
    "# query = \"What is today's stock market news?\"\n",
    "# query = \"What is LLM?\"\n",
    "query = \"How to treat lung cancer?\"\n",
    "# query  = \"what is 2 * 3?\"\n",
    "\n",
    "messages = [HumanMessage(query)]\n",
    "\n",
    "tool_calls = llm_with_tools.invoke(messages)\n",
    "\n",
    "messages.append(tool_calls)\n",
    "\n",
    "tool_calls = tool_calls.tool_calls\n"
   ]
  },
  {
   "cell_type": "code",
   "execution_count": 44,
   "metadata": {},
   "outputs": [],
   "source": [
    "from langchain_core.messages import HumanMessage\n",
    "\n",
    "# query = \"What is the latest news\"\n",
    "# query = \"What is today's stock market news?\"\n",
    "# query = \"What is LLM?\"\n",
    "query = \"What is medicine for lung cancer?\"\n",
    "# query  = \"what is 2 * 3?\"\n",
    "\n",
    "messages = [HumanMessage(query)]\n",
    "\n",
    "ai_msg = llm_with_tools.invoke(messages)\n",
    "\n",
    "messages.append(ai_msg)"
   ]
  },
  {
   "cell_type": "code",
   "execution_count": 45,
   "metadata": {},
   "outputs": [
    {
     "name": "stdout",
     "output_type": "stream",
     "text": [
      "{'name': 'pubmed_search', 'args': {'query': 'medicine for lung cancer'}, 'id': '47c1b566-d938-4336-8a7b-963e7817228e', 'type': 'tool_call'}\n"
     ]
    }
   ],
   "source": [
    "for tool_call in ai_msg.tool_calls:\n",
    "    print(tool_call)\n",
    "\n",
    "    name = tool_call['name'].lower()\n",
    "\n",
    "    selected_tool = list_of_tools[name]\n",
    "\n",
    "    tool_msg = selected_tool.invoke(tool_call)\n",
    "\n",
    "    messages.append(tool_msg)"
   ]
  },
  {
   "cell_type": "code",
   "execution_count": 46,
   "metadata": {},
   "outputs": [
    {
     "data": {
      "text/plain": [
       "[HumanMessage(content='What is medicine for lung cancer?', additional_kwargs={}, response_metadata={}),\n",
       " AIMessage(content='', additional_kwargs={}, response_metadata={'model': 'llama3.2:3b', 'created_at': '2024-10-31T20:29:52.2409179Z', 'message': {'role': 'assistant', 'content': '', 'tool_calls': [{'function': {'name': 'pubmed_search', 'arguments': {'query': 'medicine for lung cancer'}}}]}, 'done_reason': 'stop', 'done': True, 'total_duration': 702882700, 'load_duration': 20843800, 'prompt_eval_count': 361, 'prompt_eval_duration': 361520000, 'eval_count': 21, 'eval_duration': 318185000}, id='run-d5167358-84b0-4f5d-becc-0137f5d37cde-0', tool_calls=[{'name': 'pubmed_search', 'args': {'query': 'medicine for lung cancer'}, 'id': '47c1b566-d938-4336-8a7b-963e7817228e', 'type': 'tool_call'}], usage_metadata={'input_tokens': 361, 'output_tokens': 21, 'total_tokens': 382}),\n",
       " ToolMessage(content='Published: 2024-10-01\\nTitle: Lung Cancer Screening at US Hospitals for People Lacking Primary Care.\\nCopyright Information: \\nSummary::\\nNo abstract available\\n\\nPublished: 2024-10-30\\nTitle: Metastatic Lung Adenocarcinoma Presenting Within Struma Ovarii: A Rare Case of Tumor-to-Tumor Metastasis.\\nCopyright Information: Copyright © 2024 Wolters Kluwer Health, Inc. All rights reserved.\\nSummary::\\nTumor-to-tumor metastasis is extremely rare. We herein describe a 67-year-old woman who underwent FDG PET/CT for initial staging of lung cancer. This imaging examination revealed a pelvic mass with peripheral FDG uptake, suggesting a metastatic tumor from lung cancer or a secondary malignancy. Examination of a surgical specimen confirmed metastatic lung adenocarcinoma within a struma ovarii, suggesting tumor-to-tumor metastasis.\\n\\nPublished: 2024-10-21\\nTitle: Radiation Pneumonitis With 99mTc-MDP Uptake in a Patient With Breast Cancer.\\nCopyright Information: Copyright © 2024 Wolters Kluwer Health, Inc. All rights reserved.\\nSummary::\\nWe present MDP bone scan findings of radiation pneumonitis in a 45-year-old woman with invasive ductal carcinoma of the right breast, classified as stage IIIa, T3N2M0. The patient underwent a modified radical mastectomy, neoadjuvant chemotherapy, and subsequent radiotherapy, receiving the last session 7 months before the bone scan. Whole-body images acquired 3 hours postinjection of 20 mCi (730 MBq) 99mTc-MDP showed incidentally increased uptake in the right hemithorax, confined to the lung parenchyma of the right lung on SPECT/CT images.', name='pubmed_search', tool_call_id='47c1b566-d938-4336-8a7b-963e7817228e')]"
      ]
     },
     "execution_count": 46,
     "metadata": {},
     "output_type": "execute_result"
    }
   ],
   "source": [
    "messages"
   ]
  },
  {
   "cell_type": "code",
   "execution_count": 47,
   "metadata": {},
   "outputs": [
    {
     "name": "stdout",
     "output_type": "stream",
     "text": [
      "Based on the search results, here are some common medicines used to treat lung cancer:\n",
      "\n",
      "1. Chemotherapy: This is a type of treatment that uses medications to kill cancer cells. Common chemotherapy medications for lung cancer include:\n",
      "\t* Carboplatin (Paraplatin)\n",
      "\t* Docetaxel (Taxotere)\n",
      "\t* Etoposide (Vepesid)\n",
      "\t* Paclitaxel (Taxol)\n",
      "2. Targeted therapy: This type of treatment uses medications that specifically target and kill cancer cells. Common targeted therapies for lung cancer include:\n",
      "\t* Crizotinib (Xalkori) for non-small cell lung cancer (NSCLC)\n",
      "\t* Afilutopumab (TAFINlar) for NSCLC\n",
      "\t* Nivolumab (Opdivo) and pembrolizumab (Keytruda) for NSCLC and small cell lung cancer (SCLC)\n",
      "3. Immunotherapy: This type of treatment uses medications that help the body's immune system recognize and attack cancer cells. Common immunotherapies for lung cancer include:\n",
      "\t* Nivolumab (Opdivo) and pembrolizumab (Keytruda) for NSCLC and SCLC\n",
      "4. Radiation therapy: This type of treatment uses high-energy rays to kill cancer cells. Common radiation therapies for lung cancer include:\n",
      "\t* Stereotactic body radiation therapy (SBRT)\n",
      "\t* Intensity-modulated radiation therapy (IMRT)\n",
      "5. Hormone therapy: This type of treatment uses medications that block hormones that can fuel the growth of certain types of cancer, including lung cancer.\n",
      "\n",
      "It's essential to note that each person's treatment plan is unique and may involve a combination of these medications. Your doctor will work with you to develop a personalized treatment plan based on your specific needs and medical history.\n",
      "\n",
      "For more information and to learn about specific medications for lung cancer, I recommend consulting reputable sources such as the National Cancer Institute (NCI), the American Cancer Society (ACS), or the FDA's website.\n"
     ]
    }
   ],
   "source": [
    "response = llm_with_tools.invoke(messages)\n",
    "print(response.content)"
   ]
  },
  {
   "cell_type": "code",
   "execution_count": null,
   "metadata": {},
   "outputs": [],
   "source": []
  }
 ],
 "metadata": {
  "kernelspec": {
   "display_name": ".venv",
   "language": "python",
   "name": "python3"
  },
  "language_info": {
   "codemirror_mode": {
    "name": "ipython",
    "version": 3
   },
   "file_extension": ".py",
   "mimetype": "text/x-python",
   "name": "python",
   "nbconvert_exporter": "python",
   "pygments_lexer": "ipython3",
   "version": "3.12.4"
  }
 },
 "nbformat": 4,
 "nbformat_minor": 2
}
