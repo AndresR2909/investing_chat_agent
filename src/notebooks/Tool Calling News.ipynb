{
 "cells": [
  {
   "cell_type": "markdown",
   "metadata": {},
   "source": [
    "## Tool Calling or Function Calling\n",
    "- LLM Automatically calls the function based on the query\n",
    "- Function parameters are automatically passed to the function\n",
    "- It is one of the essential requirements of the Agent\n",
    "- Not all LLM supports tool calling."
   ]
  },
  {
   "cell_type": "markdown",
   "metadata": {},
   "source": [
    "- Chat models that support tool calling features implement a .bind_tools() method for passing tool schemas to the model."
   ]
  },
  {
   "cell_type": "code",
   "execution_count": 1,
   "metadata": {},
   "outputs": [
    {
     "data": {
      "text/plain": [
       "True"
      ]
     },
     "execution_count": 1,
     "metadata": {},
     "output_type": "execute_result"
    }
   ],
   "source": [
    "from dotenv import load_dotenv\n",
    "import os\n",
    "\n",
    "load_dotenv()"
   ]
  },
  {
   "cell_type": "code",
   "execution_count": 10,
   "metadata": {},
   "outputs": [],
   "source": [
    "os.chdir(\"..\")"
   ]
  },
  {
   "cell_type": "code",
   "execution_count": 11,
   "metadata": {},
   "outputs": [
    {
     "name": "stdout",
     "output_type": "stream",
     "text": [
      "\u001b[34mapp\u001b[m\u001b[m/       \u001b[34mdata\u001b[m\u001b[m/      \u001b[34mnotebooks\u001b[m\u001b[m/\n"
     ]
    }
   ],
   "source": [
    "ls"
   ]
  },
  {
   "cell_type": "code",
   "execution_count": 3,
   "metadata": {},
   "outputs": [],
   "source": [
    "#from langchain_ollama import ChatOllama \n",
    "from langchain_openai import ChatOpenAI\n",
    "\n",
    "llm = ChatOpenAI(model=\"gpt-4o-mini\",temperature=0)\n",
    "#llm = ChatOllama(model='llama3.2:3b', base_url='http://localhost:11434') #llama3.2:3b-instruct-fp16 phi4:latest\n",
    "#llm = ChatOllama(model='llama3.2:3b-instruct-fp16', base_url='http://localhost:11434')\n",
    "#llm.invoke('hi')"
   ]
  },
  {
   "cell_type": "markdown",
   "metadata": {},
   "source": [
    "### Custom Tools"
   ]
  },
  {
   "cell_type": "code",
   "execution_count": 4,
   "metadata": {},
   "outputs": [
    {
     "name": "stdout",
     "output_type": "stream",
     "text": [
      "Precio actual de NVDA: 111.01\n",
      "Retornos precio de cierre NVDA ultimos 14 dias: Date\n",
      "2025-04-07 00:00:00-04:00    0.035309\n",
      "2025-04-08 00:00:00-04:00   -0.013724\n",
      "2025-04-09 00:00:00-04:00    0.187227\n",
      "2025-04-10 00:00:00-04:00   -0.059127\n",
      "2025-04-11 00:00:00-04:00    0.031235\n",
      "2025-04-14 00:00:00-04:00   -0.001983\n",
      "2025-04-15 00:00:00-04:00    0.013459\n",
      "2025-04-16 00:00:00-04:00   -0.068717\n",
      "2025-04-17 00:00:00-04:00   -0.028711\n",
      "2025-04-21 00:00:00-04:00   -0.045128\n",
      "2025-04-22 00:00:00-04:00    0.020431\n",
      "2025-04-23 00:00:00-04:00    0.038629\n",
      "2025-04-24 00:00:00-04:00    0.036218\n",
      "2025-04-25 00:00:00-04:00    0.043033\n",
      "Name: Close, dtype: float64\n"
     ]
    }
   ],
   "source": [
    "import yfinance as yf\n",
    "\n",
    "# Selecciona el símbolo de la acción de interés, por ejemplo, NVIDIA (NVDA)\n",
    "symbol = \"NVDA\"\n",
    "company = yf.Ticker(symbol)\n",
    "\n",
    "# Usar 'info' para obtener el precio de mercado actual\n",
    "market_price_info = company.info\n",
    "print(f\"Precio actual de {symbol}: {market_price_info['currentPrice']}\")\n",
    "\n",
    "# Alternativamente, usa 'history' para obtener el precio más reciente\n",
    "market_data = company.history(period=\"15d\")\n",
    "closing_price = market_data['Close'].pct_change().dropna()\n",
    "print(f\"Retornos precio de cierre {symbol} ultimos {len(closing_price)} dias: {closing_price}\")"
   ]
  },
  {
   "cell_type": "code",
   "execution_count": 12,
   "metadata": {},
   "outputs": [
    {
     "name": "stderr",
     "output_type": "stream",
     "text": [
      "USER_AGENT environment variable not set, consider setting it to identify your requests.\n"
     ]
    }
   ],
   "source": [
    "from app.tools.custom_yahoo_finance_tools import YahooFinanceNewsSummaryTool"
   ]
  },
  {
   "cell_type": "code",
   "execution_count": 14,
   "metadata": {},
   "outputs": [],
   "source": [
    "yf_news_summary_tool =YahooFinanceNewsSummaryTool()"
   ]
  },
  {
   "cell_type": "code",
   "execution_count": 15,
   "metadata": {},
   "outputs": [
    {
     "name": "stdout",
     "output_type": "stream",
     "text": [
      "Is NVIDIA Corporation (NVDA) the Best Stock to Invest in for Long Term?\n",
      "We recently published a list of 10 Best Stocks to Invest in for Long Term. In this article, we are going to take a look at where NVIDIA Corporation (NASDAQ:NVDA) stands against other best stocks to invest in for long term. The markets have had two monster years with the S&P 500 index surging 24.73% […]\n",
      "\n",
      "Why a Cautious, Longtime Investor Is Rather Bullish on NVDA\n",
      "Harvest Portfolio Management Chief Investment Officer​​ Paul Meeks is cautious on the Mag 7 overall, suggesting that investors not buy any of the names until after they report their first-quarter earnings. Moreover, he does not believe that any of the companies will have much confidence in their outlooks, and he does not expect AI to […]\n"
     ]
    }
   ],
   "source": [
    "#yf_news_summary_tool.invoke(symbol)\n",
    "print(yf_news_summary_tool.invoke(symbol))"
   ]
  },
  {
   "cell_type": "markdown",
   "metadata": {},
   "source": [
    "## Calling In-Built Tool \n",
    "### Yahoo Finance News"
   ]
  },
  {
   "cell_type": "code",
   "execution_count": null,
   "metadata": {},
   "outputs": [],
   "source": [
    "from langchain.agents import AgentType, initialize_agent\n",
    "#from langchain_community.tools.yahoo_finance_news import YahooFinanceNewsTool"
   ]
  },
  {
   "cell_type": "code",
   "execution_count": 10,
   "metadata": {},
   "outputs": [],
   "source": [
    "# %pip install --upgrade --quiet  yfinance"
   ]
  },
  {
   "cell_type": "code",
   "execution_count": 115,
   "metadata": {},
   "outputs": [],
   "source": [
    "import yfinance"
   ]
  },
  {
   "cell_type": "code",
   "execution_count": 117,
   "metadata": {},
   "outputs": [],
   "source": [
    "query = \"NVDA\""
   ]
  },
  {
   "cell_type": "markdown",
   "metadata": {},
   "source": [
    "### DuckDuckGo Search\n",
    "- There are so many other paid options are also available like Tavily, Google, Bing, etc."
   ]
  },
  {
   "cell_type": "code",
   "execution_count": 11,
   "metadata": {},
   "outputs": [],
   "source": [
    "# https://python.langchain.com/docs/integrations/tools/\n",
    "\n",
    "# !pip install -qU duckduckgo-search wikipedia xmltodict tavily-python"
   ]
  },
  {
   "cell_type": "code",
   "execution_count": 97,
   "metadata": {},
   "outputs": [
    {
     "name": "stderr",
     "output_type": "stream",
     "text": [
      "/Users/andrestrepo/Documents/repos_personal/Langchain-and-Ollama/.venv/lib/python3.12/site-packages/langchain_community/utilities/duckduckgo_search.py:64: UserWarning: lxml is not installed. Using backend='api'.\n",
      "  ddgs_gen = ddgs.text(\n"
     ]
    },
    {
     "data": {
      "text/plain": [
       "\"The stock market is often discussed as a solved problem — much like baseball, with its three true outcomes — but if the known correct action is, as mentioned above, to buy the basket and do ... Stock Market News And Analysis. The analysis you'll find in the Stock Market Today is based on over 130 years of market history and a detailed study of every top-performing stock since the 1880s. In the bond market, Treasury yields were mixed. The yield on the 10-year Treasury went from 4.28% shortly before the release of the retail sales report to nearly 4.33% immediately afterward. It then pulled back to 4.30%, down from its 4.31% level late Friday. In stock markets abroad, indexes rose across much of Europe and Asia. On Monday the stock market shrugged off escalating trade tensions, with all three major averages rallying. Meanwhile, West Texas Intermediate crude ( CL=F ) and Brent futures ( BZ=F ) gained more ... The economic data didn't get any better on Monday, but the stock market was rising anyway. The S&P 500 was up 0.3%, while the Dow was up 182 points, or 0.4%. The Nasdaq Composite was down 0.2% ...\""
      ]
     },
     "execution_count": 97,
     "metadata": {},
     "output_type": "execute_result"
    }
   ],
   "source": [
    "from langchain_community.tools import DuckDuckGoSearchRun\n",
    "\n",
    "search = DuckDuckGoSearchRun()\n",
    "\n",
    "search.invoke(\"What is today's stock market news?\")"
   ]
  },
  {
   "cell_type": "markdown",
   "metadata": {},
   "source": [
    "### Tavily Search"
   ]
  },
  {
   "cell_type": "code",
   "execution_count": 100,
   "metadata": {},
   "outputs": [],
   "source": [
    "from langchain_community.tools import TavilySearchResults\n",
    "\n",
    "search = TavilySearchResults(\n",
    "    max_results=5,\n",
    "    search_depth=\"advanced\",\n",
    "    include_answer=True,\n",
    "    include_raw_content=True,\n",
    ")"
   ]
  },
  {
   "cell_type": "code",
   "execution_count": 101,
   "metadata": {},
   "outputs": [
    {
     "data": {
      "text/plain": [
       "[{'url': 'https://finance.yahoo.com/topic/stock-market-news/',\n",
       "  'content': \"### It's 'economic blackout' day as campaign encourages Americans not to spend for 24 hours A retail boycott is hitting major US businesses Friday as an online campaign calls for Americans to spend nothing at places such as Walmart, Target, Amazon and McDonald’s.\\n\\n### Stock market today: Dow, S&P 500, Nasdaq rally to cap volatile week, losing month Investors are waiting for the release of the Federal Reserve's preferred inflation gauge as they eye Trump’s latest trade threats. [...] ### Why Tesla's stock has given up nearly all of its Trump election gains Tesla stock has nearly given up all its gains since President Trump’s election win, as Elon Musk’s forays with politics have investors wondering where the CEO’s attention lies.\\n\\n### Stock market today: Nasdaq, S&P 500 sell-off as Nvidia sinks 8%, Trump reiterates tariff plans An upbeat tone is seeping into markets as investors dig into Nvidia's quarterly earnings beat, which signaled plenty of scope for growth. [...] ### Walgreens downgraded, Cava Group upgraded: Wall Street's top analyst calls Walgreens downgraded, Cava Group upgraded: Wall Street's top analyst calls\\nThe Fly • yesterday\\nWBACAVA\\n\\n\\n\\n### Stock market today: Dow, S&P 500, Nasdaq rally to cap volatile week, losing month Investors are waiting for the release of the Federal Reserve's preferred inflation gauge as they eye Trump’s latest trade threats.\\nYahoo Finance • yesterday\\nYM=F^GSPC\"},\n",
       " {'url': 'https://finance.yahoo.com/',\n",
       "  'content': \"### A Trader’s Guide for China’s Closely Watched Policy Meeting\\nBloomberg • 9 hours ago\\n\\n\\n### Trump takes actions to increase lumber supplies and curb wood imports\\nAssociated Press Finance • 9 hours ago\\n\\n\\nPopular\\n\\n\\n### Best business savings accounts for 2025\\nBankrate • yesterday\\n\\n\\n### Stock market today: Dow, S&P 500, Nasdaq rally to cap volatile week, losing month\\nYahoo Finance • yesterday\\nYM=F +1.26%^GSPC +1.59% [...] Yahoo Finance - Stock Market Live, Quotes, Business & Finance News\\n\\nNews\\n\\nToday's news\\nUS\\nPolitics\\nWorld\\n\\nTech\\n\\nReviews and deals\\nAudio\\nComputing\\nGaming\\nHealth\\nHome\\nPhones\\nScience\\nTVs\\nClimate change\\nHealth\\nScience\\n\\nOriginals\\n\\n\\nThe 360\\n\\nNewsletters\\n\\n\\n\\n\\nLife\\n\\n\\nHealth\\n\\nCOVID-19\\nFall allergies\\nHealth news\\nMental health\\nRelax\\nSexual health\\nStudies\\nThe Unwind\\n\\nParenting\\n\\n\\nFamily health\\n\\nSo mini ways\\n\\nStyle and beauty\\n\\n\\nIt Figures\\n\\nUnapologetically\\nHoroscopes\\n\\nShopping\\n\\n\\nBuying guides [...] News • yesterday Egg prices are set to jump 41% this year, but a top egg producer says relief is around the corner\\nNews • yesterday Target and Walmart rolled back DEI policies. Now, customers are pushing back.\\nNews • yesterday Tesla just wrapped up its second-worst month ever\\nBreaking News • yesterday Dow, S&P 500, Nasdaq rally to cap volatile week, losing month\"},\n",
       " {'url': 'https://www.cnbc.com/2025/03/17/stock-market-today-live-updates.html',\n",
       "  'content': \"The S&P 500 officially entered correction territory last week, but the index has made up some notable ground in the recovery rally seen in Friday and Monday's sessions. Despite the recent bounce, the tech-heavy Nasdaq Composite still sits in a correction, a term used to describe an index falling at least 10% from a recent high. The three major averages all remain down on the year, underscoring the strength of the market's pullback. [...] While investors continue to follow updates out of the White House, they'll turn their attention to the Federal Reserve two-day policy meeting that kicks off Tuesday.\\n\\nTraders will closely follow Wednesday afternoon's interest rate announcement and subsequent press conference with Fed Chair Jerome Powell. Fed funds futures are pricing in a 99% likelihood that the central bank holds rates steady, according to CME's FedWatch tool. [...] Those moves follow a second-straight winning session on Wall Street. That marks a turn after several tough weeks on Wall Street as some soft economic data and President Donald Trump's on-again-off-again tariff policy left investors wary of the U.S.' financial health.\"},\n",
       " {'url': 'https://www.reuters.com/markets/us/',\n",
       "  'content': \"Macro MatterscategoryFed expected to cut rates in June as jobs data raises potential red flagsMarch 7, 2025\\n\\n\\n\\nMarketscategoryTSX rallies but still posts biggest weekly decline in 2025March 7, 2025\\n\\n\\n\\nWorldcategoryMexico aims to boost compliant exports to 90% after U.S. tariff reprieveMarch 7, 2025\\n\\n\\n\\nWorldcategoryUS pushes India to lower tariffs, buy more defence products for fair new dealMarch 7, 2025 [...] Worldcategory\\nMexico taps Edgar Amador as new finance minister after Ramirez de la O steps down\\nMarch 7, 2025\\n\\nBoards, Policy & Regulationcategory\\nFed's Kugler warns on uncertainty and tariff risks to economy\\nMarch 7, 2025\\n\\nU.S. Marketscategory\\nMorgan Stanley cuts US growth forecast for 2025 on tariff concerns\\nMarch 7, 2025\\n\\nMarketscategory\\nCanada commits over C$6 billion to fight impact of US tariffs, find new markets\\nMarch 7, 2025 [...] Markets Performance\\nOfficial Data Partner\\n### Commodities\\n| Future | Last | % Change |\\n| --- | --- | --- |\\n| Brent Crude Oil | 70.45 | +0.13%Positive |\\n| Gold | 2,910.60 | -0.21%Negative |\\n| Copper | 882.55 | -0.93%Negative |\\n| CBOT Soybeans | 1,010.00 | -0.39%Negative |\\n### Currencies\\n| Exchange | Last | % Change |\\n| --- | --- | --- |\\n| EUR/USD | 1.0832 | +0.44%Positive |\\n| GBP/USD | 1.2920 | +0.29%Positive |\\n| JPY/USD | 0.0068 | -99.00%Negative |\\n| CNY/USD | 0.1382 | +0.17%Positive |\"}]"
      ]
     },
     "execution_count": 101,
     "metadata": {},
     "output_type": "execute_result"
    }
   ],
   "source": [
    "question = \"what is today's stock market news?\"\n",
    "search.invoke(question)"
   ]
  },
  {
   "cell_type": "markdown",
   "metadata": {},
   "source": [
    "### Wikipedia Search"
   ]
  },
  {
   "cell_type": "code",
   "execution_count": 103,
   "metadata": {},
   "outputs": [
    {
     "name": "stdout",
     "output_type": "stream",
     "text": [
      "Page: Exchange-traded fund\n",
      "Summary: An exchange-traded fund (ETF) is a type of investment fund that is also an exchange-traded product, i.e., it is traded on stock exchanges. ETFs own financial assets such as stocks, bonds, currencies, debts, futures contracts, and/or commodities such as gold bars. Many ETFs provide some level of diversification compared to owning an individual stock.\n",
      "An ETF divides ownership of itself into shares that are held by shareholders. Depending on the country, the legal structure of an ETF can be a corporation, trust, open-end management investment company, or unit investment trust. Shareholders indirectly own the assets of the fund and are entitled to a share of the profits, such as interest or dividends, and would be entitled to any residual value if the fund undergoes liquidation. They also receive annual reports. An ETF generally operates with an arbitrage mechanism designed to keep it trading close to its net asset value, although deviations can occur.\n",
      "The largest ETFs, which passively track stock market indices, have annual expense ratios as low as 0.03% of the amount invested, although specialty ETFs can have annual fees of 1% or more of the amount invested. These fees are paid to the ETF issuer out of dividends received from the underlying holdings or from the sale of assets.\n",
      "In the United States, there is $5.4 trillion invested in equity ETFs and $1.4 trillion invested in fixed-income ETFs. In Europe, there is $1.0 trillion invested in equity ETFs and $0.4 trillion invested in fixed-income ETFs. In Asia, there is $0.9 trillion invested in equity ETFs and $0.1 trillion invested in fixed-income ETFs. In the first quarter of 2023, trading in ETFs accounted for 32% of the total dollar volume of stock market trading in the US, 11% of trading volume in Europe, and 13% of trading volume in Asia.\n",
      "In the US, the largest ETF issuers are BlackRock iShares with a 34% market share, Vanguard with a 29% market share, State Street Global Advisors with a 14% market share, Invesco with a 5% market share, and Charles Schwab with a 4% market share.\n",
      "ETFs are regulated by governmental bodies (such as the SEC and the CFTC in the United States) and are subject to securities laws (such as the Investment Company Act of 1940 and the Securities Exchange Act of 1934 in the United States).\n",
      "Closed-end funds are not considered to be ETFs; even though they are funds and are traded on an exchange they do not change the number of shares they have issued, unlike an ETF. Exchange-traded notes are debt instruments that are not exchange-traded funds.\n",
      "\n",
      "\n",
      "\n",
      "Page: European Training Foundation\n",
      "Summary: The European Training Foundation (ETF) is the EU agency working to improve the skills and employability of people in partner countries outside the EU. The ETF does not itself train or qualify people. It helps countries and institutions outside the EU to develop skills.\n",
      "The agency gives advice and support on professional education policy, programmes, and practice to governments, social partners, and training providers in countries ranging from Morocco to Kazakhstan and from Belarus to Jordan [link to list below].\n",
      "The ETF is based in Torino, Italy. It is primarily funded from the EU budget with an annual allocation (2023) of around €22.6M.\n",
      "Approximately 130 staff work at the ETF offices. They represent most EU member states and some of the non-EU partner countries.\n",
      "\n",
      "Page: WisdomTree Investments\n",
      "Summary: WisdomTree, Inc. is a global exchange-traded fund (ETF) and exchange-traded product (ETP) sponsor and asset manager with headquarters in New York. WisdomTree launched its first ETFs in June 2006, and became one of the major ETF providers in the United States. WisdomTree sponsors different ETFs that span asset classes and countries worldwide. Categories include: U.S. and International Equity, Currency, Fixed Income and Alternatives. \n",
      "WisdomTree manages approximately $99.5 billion in assets under management globally, as of January 2024.\n",
      "Wisdo\n"
     ]
    }
   ],
   "source": [
    "from langchain_community.tools import WikipediaQueryRun\n",
    "from langchain_community.utilities import WikipediaAPIWrapper\n",
    "\n",
    "\n",
    "wikipedia = WikipediaQueryRun(api_wrapper=WikipediaAPIWrapper())\n",
    "\n",
    "question = \"What is etf?\"\n",
    "\n",
    "print(wikipedia.invoke(question))"
   ]
  },
  {
   "cell_type": "markdown",
   "metadata": {},
   "source": [
    "### Tool Calling with LLM"
   ]
  },
  {
   "cell_type": "code",
   "execution_count": 77,
   "metadata": {},
   "outputs": [],
   "source": [
    "from langchain_core.tools import tool\n",
    "\n",
    "@tool\n",
    "def wikipedia_search(query):\n",
    "    \"\"\"\n",
    "    Search wikipedia for general information about trading and investing.\n",
    "    \n",
    "    Args:\n",
    "    query: The search query\n",
    "    \"\"\"\n",
    "    \n",
    "    wikipedia = WikipediaQueryRun(api_wrapper=WikipediaAPIWrapper())\n",
    "    response = wikipedia.invoke(query)\n",
    "    return response\n",
    "\n",
    "@tool\n",
    "def tavily_search(query):\n",
    "    \"\"\"\n",
    "    Search the web for realtime and latest information.\n",
    "    for examples, news, stock market etc.\n",
    "    \n",
    "    Args:\n",
    "    query: The search query\n",
    "    \"\"\"\n",
    "    \n",
    "    search = TavilySearchResults(\n",
    "        max_results=5,\n",
    "        search_depth=\"advanced\",\n",
    "        include_answer=True,\n",
    "        include_raw_content=True,\n",
    "    )\n",
    "    response = search.invoke(query)\n",
    "    return response\n",
    "\n",
    "\n",
    "\n",
    "@tool\n",
    "def duck_search(query):\n",
    "    \"\"\"\n",
    "    Search the web for realtime and latest information.\n",
    "    for examples, news, stock market etc.\n",
    "    \n",
    "    Args:\n",
    "    query: The search query\n",
    "    \"\"\"\n",
    "    \n",
    "    search = DuckDuckGoSearchRun()\n",
    "\n",
    "    response = search.invoke(query)\n",
    "    return response\n",
    "\n",
    "@tool\n",
    "def yahoo_finance_news_search(symbol):\n",
    "    \"\"\"\n",
    "    Search financial news from yahoo finance using the company ticker or symbol.\n",
    "    \n",
    "    Args:\n",
    "    symbol: the company ticker\n",
    "    \"\"\"\n",
    "    \n",
    "    search =YahooFinanceNewsSummaryTool()\n",
    "\n",
    "    response = search.invoke(symbol)\n",
    "    return response\n"
   ]
  },
  {
   "cell_type": "code",
   "execution_count": 78,
   "metadata": {},
   "outputs": [],
   "source": [
    "tools = [wikipedia_search, duck_search, yahoo_finance_news_search]\n",
    "\n",
    "list_of_tools = { tool.name: tool for tool in tools }"
   ]
  },
  {
   "cell_type": "code",
   "execution_count": 79,
   "metadata": {},
   "outputs": [
    {
     "data": {
      "text/plain": [
       "{'wikipedia_search': StructuredTool(name='wikipedia_search', description='Search wikipedia for general information about trading and investing.\\n\\nArgs:\\nquery: The search query', args_schema=<class 'langchain_core.utils.pydantic.wikipedia_search'>, func=<function wikipedia_search at 0x13b3c1080>),\n",
       " 'duck_search': StructuredTool(name='duck_search', description='Search the web for realtime and latest information.\\nfor examples, news, stock market etc.\\n\\nArgs:\\nquery: The search query', args_schema=<class 'langchain_core.utils.pydantic.duck_search'>, func=<function duck_search at 0x13b3c0ea0>),\n",
       " 'yahoo_finance_news_search': StructuredTool(name='yahoo_finance_news_search', description='Search financial news from yahoo finance using the company ticker or symbol.\\n\\nArgs:\\nsymbol: the company ticker', args_schema=<class 'langchain_core.utils.pydantic.yahoo_finance_news_search'>, func=<function yahoo_finance_news_search at 0x13b3c1440>)}"
      ]
     },
     "execution_count": 79,
     "metadata": {},
     "output_type": "execute_result"
    }
   ],
   "source": [
    "list_of_tools"
   ]
  },
  {
   "cell_type": "code",
   "execution_count": 80,
   "metadata": {},
   "outputs": [],
   "source": [
    "llm_with_tools = llm.bind_tools(tools)"
   ]
  },
  {
   "cell_type": "code",
   "execution_count": 81,
   "metadata": {},
   "outputs": [
    {
     "name": "stdout",
     "output_type": "stream",
     "text": [
      "[{'name': 'yahoo_finance_news_search', 'args': {'symbol': 'NVDA'}, 'id': '6bc0d90c-3422-4d07-ba93-a9fe0e047571', 'type': 'tool_call'}]\n"
     ]
    }
   ],
   "source": [
    "#query = \"What is the latest news\"\n",
    "#query = \"What is today's stock market news?\"\n",
    "#query = \"what is ETF?\"\n",
    "query = \"NVDA\"\n",
    "\n",
    "response = llm_with_tools.invoke(query)\n",
    "print(response.tool_calls)"
   ]
  },
  {
   "cell_type": "markdown",
   "metadata": {},
   "source": [
    "### Generate Final Result with Tool Calling"
   ]
  },
  {
   "cell_type": "code",
   "execution_count": 82,
   "metadata": {},
   "outputs": [],
   "source": [
    "from langchain_core.messages import HumanMessage, AIMessage"
   ]
  },
  {
   "cell_type": "code",
   "execution_count": 83,
   "metadata": {},
   "outputs": [],
   "source": [
    "query = \"NVDA\"\n",
    "\n",
    "messages = [HumanMessage(query)]\n",
    "\n",
    "tool_calls = llm_with_tools.invoke(messages)\n",
    "\n",
    "messages.append(tool_calls)\n",
    "\n",
    "tool_calls = tool_calls.tool_calls\n"
   ]
  },
  {
   "cell_type": "code",
   "execution_count": 84,
   "metadata": {},
   "outputs": [],
   "source": [
    "from langchain_core.messages import HumanMessage\n",
    "\n",
    "messages = [HumanMessage(query)]\n",
    "\n",
    "ai_msg = llm_with_tools.invoke(messages)\n",
    "\n",
    "messages.append(ai_msg)"
   ]
  },
  {
   "cell_type": "code",
   "execution_count": 85,
   "metadata": {},
   "outputs": [
    {
     "name": "stdout",
     "output_type": "stream",
     "text": [
      "{'name': 'yahoo_finance_news_search', 'args': {'symbol': 'NVDA'}, 'id': '0c65661a-2c77-4d8b-ba5e-9b7c3a8fe298', 'type': 'tool_call'}\n"
     ]
    }
   ],
   "source": [
    "for tool_call in ai_msg.tool_calls:\n",
    "    print(tool_call)\n",
    "\n",
    "    name = tool_call['name'].lower()\n",
    "\n",
    "    selected_tool = list_of_tools[name]\n",
    "\n",
    "    tool_msg = selected_tool.invoke(tool_call)\n",
    "\n",
    "    messages.append(tool_msg)"
   ]
  },
  {
   "cell_type": "code",
   "execution_count": 86,
   "metadata": {},
   "outputs": [
    {
     "data": {
      "text/plain": [
       "[HumanMessage(content='NVDA', additional_kwargs={}, response_metadata={}),\n",
       " AIMessage(content='', additional_kwargs={}, response_metadata={'model': 'llama3.2:3b-instruct-fp16', 'created_at': '2025-03-18T05:30:31.131874Z', 'message': {'role': 'assistant', 'content': '', 'tool_calls': [{'function': {'name': 'yahoo_finance_news_search', 'arguments': {'symbol': 'NVDA'}}}]}, 'done_reason': 'stop', 'done': True, 'total_duration': 1292201917, 'load_duration': 31435333, 'prompt_eval_count': 294, 'prompt_eval_duration': 219000000, 'eval_count': 21, 'eval_duration': 1041000000}, id='run-994393e6-f856-4f7a-b65d-f3063f7d0daa-0', tool_calls=[{'name': 'yahoo_finance_news_search', 'args': {'symbol': 'NVDA'}, 'id': '0c65661a-2c77-4d8b-ba5e-9b7c3a8fe298', 'type': 'tool_call'}], usage_metadata={'input_tokens': 294, 'output_tokens': 21, 'total_tokens': 315}),\n",
       " ToolMessage(content='Fed meeting, US housing starts, Nvidia GTC: What to Watch\\nAsking for a Trend host Julie Hyman previews the biggest stories and events to come on Tuesday, March 18. The Federal Reserve will be meeting in Washington, D.C., for its March FOMC meeting tomorrow, concluding on Wednesday with an interest rate decision followed by a press conference with Chair Jerome Powell. Data on US housing starts and permits will be released tomorrow. Also expect earnings results out from Chinese EV maker XPeng (XPEV) and music streamer Tencent Music Entertainment (TME) Nvidia (NVDA) CEO Jensen Huang will be delivering his keynote speech at the chip giant\\'s 2025 (GPU Technology Conference) tomorrow. To watch more expert insights and analysis on the latest market action, check out more Asking for a Trend&nbsp;here.\\n\\n2 ways to buy the dip as US stocks are under pressure\\nThere are two ways investors can buy the dip, Bullseye American Ingenuity Fund portfolio manager Adam Johnson tells Madison Mills: by buying on the way down or on the way up. The portfolio manager highlights names like Nvidia (NVDA) and Super Micro Computer (SMCI) as buying opportunities. To watch more expert insights and analysis on the latest market action, check out more Catalysts here.\\n\\nFutures fluctuate, Fed rate decision, Nvidia GTC: 3 Things\\nUS stock futures (ES=F, NQ=F, YM=F) are mixed to start this trading week as US Treasury Secretary Scott Bessent tells Wall Street that \"corrections are health.\" US retail sales rose by 0.2% in February, below predictions of 0.6% for the month. This data comes out ahead of the Federal Reserve\\'s next interest rate decision this Wednesday, March 19. Nvidia (NVDA) kicks off its 2025 GTC (GPU Technology Conference) event in San Jose, California. Catch up on Yahoo Finance\\'s biggest expectations from the chip giant this week. To watch more expert insights and analysis on the latest market action, check out more Morning Brief&nbsp;here.\\n\\nAre Nvidia and Tesla deeply oversold screaming buys?\\nThe stock market has broken down this month as investors digest tariff and recession fears. Some of the most popular stocks such as Nvidia (NVDA), Palantir (PLTR), and Tesla have cratered. Crypto has lost its post-Trump election bid. And safe-haven stocks like healthcare have performed well. When stability will return to these top momentum names is unclear. Yahoo Finance Executive Editor Brian Sozzi talks with EvercoreISI technical strategist Rich Ross. Ross has more than 30 years of experience in studying the deepest areas of the market from a technical perspective. This experience is poised to pay off for Ross as he aims to dissect opportunities for the firm’s clients amid March’s tariff-driven sell-off.&nbsp; He shares with Sozzi some of his top trading ideas from the rubble and provides good rules of thumb for chart watchers. For full episodes of Opening Bid, listen on your favorite podcast platform or watch on our website. Yahoo Finance\\'s Opening Bid is produced by Langston Sessoms\\n\\nJim Cramer Calls NVIDIA Corporation (NVDA)’s GTC the Woodstock of AI – And He’s Not Missing It\\nWe recently published a list of 8 Stocks in Focus Under Jim Cramer’s Game Plan. In this article, we are going to take a look at where NVIDIA Corporation (NASDAQ:NVDA) stands against other stocks in focus under Jim Cramer’s game plan. Jim Cramer, host of Mad Money, offered some important insights to his viewers on […]\\n\\nWhy NVIDIA Corporation (NVDA) is One of the Best Strong Buy Stocks to Buy Right Now\\nWe recently published a list of the 10 Best Strong Buy Stocks To Buy Right Now. In this article, we are going to take a look at where NVIDIA Corporation (NASDAQ:NVDA) stands against the other best strong buy stocks to buy right now. Fears of a slowing economy have hit stocks recently, along with concerns […]', name='yahoo_finance_news_search', tool_call_id='0c65661a-2c77-4d8b-ba5e-9b7c3a8fe298')]"
      ]
     },
     "execution_count": 86,
     "metadata": {},
     "output_type": "execute_result"
    }
   ],
   "source": [
    "messages"
   ]
  },
  {
   "cell_type": "code",
   "execution_count": 87,
   "metadata": {},
   "outputs": [
    {
     "name": "stdout",
     "output_type": "stream",
     "text": [
      "Here's a formatted answer based on the tool call response for NVDA:\n",
      "\n",
      "\"NVIDIA Corporation (NVDA) is a leading manufacturer of graphics processing units (GPUs) and high-performance computing hardware. The company's stock has been impacted by recent market fluctuations, but some analysts see it as a strong buy opportunity.\n",
      "\n",
      "According to Jim Cramer, CEO Jensen Huang will be delivering his keynote speech at the 2025 GPU Technology Conference, which could provide insight into the company's future plans and strategies.\n",
      "\n",
      "In terms of technical analysis, Rich Ross from EvercoreISI suggests that some of NVIDIA's top momentum names, including NVDA, have become deeply oversold. However, it's unclear when stability will return to these stocks, and investors should exercise caution in their trading decisions.\n",
      "\n",
      "Overall, NVDA remains a key player in the technology sector, with its strong brand and diverse product portfolio positioning it for long-term success.\"\n"
     ]
    }
   ],
   "source": [
    "response = llm_with_tools.invoke(messages)\n",
    "print(response.content)"
   ]
  }
 ],
 "metadata": {
  "kernelspec": {
   "display_name": ".venv",
   "language": "python",
   "name": "python3"
  },
  "language_info": {
   "codemirror_mode": {
    "name": "ipython",
    "version": 3
   },
   "file_extension": ".py",
   "mimetype": "text/x-python",
   "name": "python",
   "nbconvert_exporter": "python",
   "pygments_lexer": "ipython3",
   "version": "3.12.4"
  }
 },
 "nbformat": 4,
 "nbformat_minor": 2
}
