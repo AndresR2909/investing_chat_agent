{
 "cells": [
  {
   "cell_type": "markdown",
   "metadata": {},
   "source": [
    "## YouTube Video Transcripts"
   ]
  },
  {
   "cell_type": "code",
   "execution_count": null,
   "metadata": {},
   "outputs": [
    {
     "name": "stdout",
     "output_type": "stream",
     "text": [
      "\u001b[33mWARNING: pinecone 6.0.2 does not provide the extra 'async'\u001b[0m\u001b[33m\n",
      "\u001b[0m"
     ]
    }
   ],
   "source": [
    "pip install -U langchain-openai youtube-transcript-api pytube isodate python-dotenv pandas pinecone langchain_pinecone langchain_ollama langchain_community -q"
   ]
  },
  {
   "cell_type": "code",
   "execution_count": 1,
   "metadata": {},
   "outputs": [
    {
     "data": {
      "text/plain": [
       "True"
      ]
     },
     "execution_count": 1,
     "metadata": {},
     "output_type": "execute_result"
    }
   ],
   "source": [
    "import os\n",
    "import warnings\n",
    "import logging\n",
    "import pandas as pd\n",
    "from dotenv import load_dotenv\n",
    "\n",
    "\n",
    "warnings.filterwarnings(\"ignore\")\n",
    "\n",
    "load_dotenv()"
   ]
  },
  {
   "cell_type": "code",
   "execution_count": 2,
   "metadata": {},
   "outputs": [],
   "source": [
    "logging.basicConfig(level=logging.INFO)"
   ]
  },
  {
   "cell_type": "code",
   "execution_count": 3,
   "metadata": {},
   "outputs": [],
   "source": [
    "os.chdir('..') #('../..')\n"
   ]
  },
  {
   "cell_type": "code",
   "execution_count": 4,
   "metadata": {},
   "outputs": [
    {
     "name": "stdout",
     "output_type": "stream",
     "text": [
      "\u001b[34mapp\u001b[m\u001b[m/       \u001b[34mdata\u001b[m\u001b[m/      \u001b[34mnotebooks\u001b[m\u001b[m/\n"
     ]
    }
   ],
   "source": [
    "ls"
   ]
  },
  {
   "cell_type": "code",
   "execution_count": 5,
   "metadata": {},
   "outputs": [],
   "source": [
    "\n",
    "default_llm_config = {\n",
    "    \"type\": \"ollama\",\n",
    "    \"model\": \"hf.co/unsloth/Llama-3.3-70B-Instruct-GGUF:Q2_K\",#\"phi4:latest\",  #'phi4:latest'#'llama3.2:3b'#phi4:latest#gemma3:27b#\"qwq:latest\"\n",
    "    \"base_url\": \"http://localhost:11434\",\n",
    "}"
   ]
  },
  {
   "cell_type": "code",
   "execution_count": 7,
   "metadata": {},
   "outputs": [],
   "source": [
    "import pandas as pd\n",
    "from app.extract_load_data.run import YoutubeLoaderRunner\n"
   ]
  },
  {
   "cell_type": "code",
   "execution_count": 8,
   "metadata": {},
   "outputs": [],
   "source": [
    "import pandas as pd\n",
    "from app.llm.llm import Llm,SummaryLlm"
   ]
  },
  {
   "cell_type": "code",
   "execution_count": 9,
   "metadata": {},
   "outputs": [],
   "source": [
    "llm = Llm()"
   ]
  },
  {
   "cell_type": "code",
   "execution_count": 11,
   "metadata": {},
   "outputs": [
    {
     "data": {
      "text/plain": [
       "'Eres un experto de trading y análisis de mercado. Provee respuestas precisas y concisas.\\n\\n**Tarea:** Resume y elabora un informe con los topicos mas importantes del siguiente texto.\\n\\n**Texto:**\\n{context}\\n\\n**Instrucciones:**\\nComience el resumen con una \"Introducción\" que ofrezca una visión general del tema seguido por los puntos más importantes (\"Bullet Points\"). Termina el resumen con una conclusión.\\n**Además, extrae los activos mencionados para invertir y crea una lista separada de los mismos.**\\n\\n**Resumen:**'"
      ]
     },
     "execution_count": 11,
     "metadata": {},
     "output_type": "execute_result"
    }
   ],
   "source": [
    "llm.load_prompt(\"app/prompt/v1_summary_asistance.txt\")"
   ]
  },
  {
   "cell_type": "code",
   "execution_count": 13,
   "metadata": {},
   "outputs": [],
   "source": [
    "runner = YoutubeLoaderRunner(llm_config=default_llm_config)"
   ]
  },
  {
   "cell_type": "code",
   "execution_count": null,
   "metadata": {},
   "outputs": [
    {
     "name": "stderr",
     "output_type": "stream",
     "text": [
      "INFO:root:Ingesting data from Esteban Perez\n",
      "INFO:root:Se encontraron 11 videos\n",
      "ERROR:root:Error al obtener el transcript del video Vq7CazKkTf4: \n",
      "Could not retrieve a transcript for the video https://www.youtube.com/watch?v=Vq7CazKkTf4! This is most likely caused by:\n",
      "\n",
      "YouTube is blocking requests from your IP. This usually is due to one of the following reasons:\n",
      "- You have done too many requests and your IP has been blocked by YouTube\n",
      "- You are doing requests from an IP belonging to a cloud provider (like AWS, Google Cloud Platform, Azure, etc.). Unfortunately, most IPs from cloud providers are blocked by YouTube.\n",
      "\n",
      "There are two things you can do to work around this:\n",
      "1. Use proxies to hide your IP address, as explained in the \"Working around IP bans\" section of the README (https://github.com/jdepoix/youtube-transcript-api?tab=readme-ov-file#working-around-ip-bans-requestblocked-or-ipblocked-exception).\n",
      "2. (NOT RECOMMENDED) If you authenticate your requests using cookies, you will be able to continue doing requests for a while. However, YouTube will eventually permanently ban the account that you have used to authenticate with! So only do this if you don't mind your account being banned!\n",
      "\n",
      "If you are sure that the described cause is not responsible for this error and that a transcript should be retrievable, please create an issue at https://github.com/jdepoix/youtube-transcript-api/issues. Please add which version of youtube_transcript_api you are using and provide the information needed to replicate the error. Also make sure that there are no open issues which already describe your problem!\n",
      "ERROR:root:Error al obtener el transcript del video CXTXiD7Cm1k: \n",
      "Could not retrieve a transcript for the video https://www.youtube.com/watch?v=CXTXiD7Cm1k! This is most likely caused by:\n",
      "\n",
      "YouTube is blocking requests from your IP. This usually is due to one of the following reasons:\n",
      "- You have done too many requests and your IP has been blocked by YouTube\n",
      "- You are doing requests from an IP belonging to a cloud provider (like AWS, Google Cloud Platform, Azure, etc.). Unfortunately, most IPs from cloud providers are blocked by YouTube.\n",
      "\n",
      "There are two things you can do to work around this:\n",
      "1. Use proxies to hide your IP address, as explained in the \"Working around IP bans\" section of the README (https://github.com/jdepoix/youtube-transcript-api?tab=readme-ov-file#working-around-ip-bans-requestblocked-or-ipblocked-exception).\n",
      "2. (NOT RECOMMENDED) If you authenticate your requests using cookies, you will be able to continue doing requests for a while. However, YouTube will eventually permanently ban the account that you have used to authenticate with! So only do this if you don't mind your account being banned!\n",
      "\n",
      "If you are sure that the described cause is not responsible for this error and that a transcript should be retrievable, please create an issue at https://github.com/jdepoix/youtube-transcript-api/issues. Please add which version of youtube_transcript_api you are using and provide the information needed to replicate the error. Also make sure that there are no open issues which already describe your problem!\n",
      "INFO:root:Ingesting data from Bolsas hoy | Invierte y Crece\n",
      "INFO:root:Se encontraron 0 videos\n",
      "INFO:root:Ingesting data from ARENA ALFA\n",
      "INFO:root:Se encontraron 1 videos\n",
      "INFO:root:Ingesting data from USACRYPTONOTICIAS\n",
      "INFO:root:Se encontraron 8 videos\n",
      "INFO:httpx:HTTP Request: POST http://localhost:11434/api/chat \"HTTP/1.1 200 OK\"\n",
      "INFO:httpx:HTTP Request: POST http://localhost:11434/api/chat \"HTTP/1.1 200 OK\"\n",
      "INFO:httpx:HTTP Request: POST http://localhost:11434/api/chat \"HTTP/1.1 200 OK\"\n"
     ]
    }
   ],
   "source": [
    "runner.run(daysback=7)"
   ]
  },
  {
   "cell_type": "code",
   "execution_count": 10,
   "metadata": {},
   "outputs": [
    {
     "name": "stderr",
     "output_type": "stream",
     "text": [
      "INFO:httpx:HTTP Request: POST http://localhost:11434/api/embed \"HTTP/1.1 200 OK\"\n"
     ]
    },
    {
     "data": {
      "text/plain": [
       "[Document(id='4e440220-9e3a-4b6f-a8d2-ba09587d4688', metadata={'assets': \"['Bitcoin', 'Ethereum', 'Dow Jones', 'SP500', 'Nasdaq']\", 'channelId': 'UC4DOPLw9NRRBFW4wYjcWxiA', 'channelTitle': 'Bitcoin hoy', 'duration': '21.0', 'kind': 'youtube#video', 'publishTime': '2025-04-07T06:42:11Z', 'publish_date': '2025-04-07', 'row': 1.0, 'source': 'https://www.youtube.com/watch?v=671kEcJiRjI', 'title': 'QUE HARÁ BITCOIN HOY 07/04/25 08:00  | ESTEBAN PEREZ', 'videoId': '671kEcJiRjI'}, page_content='title: QUE HARÁ BITCOIN HOY 07/04/25 08:00  | ESTEBAN PEREZ\\nsummary: **Introducción:**\\nEl mercado financiero está experimentando una serie de cambios significativos, influenciados por factores como la inflación, las decisiones de la Reserva Federal, y el comportamiento de los inversores. Estos movimientos tienen implicaciones para various activos, incluyendo criptomonedas, acciones, y bonos.\\n\\n**Puntos clave:**\\n\\n* La inflación y las tasas de interés son factores importantes que afectan las decisiones de inversión.\\n* Los inversores buscan refugios seguros, como la renta fija, debido a la incertidumbre en el mercado.\\n* Las criptomonedas, como Bitcoin y XRP, están experimentando fluctuaciones significativas en su valor.\\n* El Dow Jones y el S&P 500 han alcanzado objetivos bajistas, lo que sugiere una posible corrección en el mercado de acciones.\\n* La situación geopolítica, con más del 70% de los encuestados en España previendo una tercera guerra mundial, está aumentando la incertidumbre.\\n\\n**Conclusión:**\\nEl mercado financiero se encuentra en un estado de flujo constante, con factores como la inflación, las tasas de interés, y la situación geopolítica influenciando las decisiones de inversión. Los inversores deben estar atentos a estos cambios y ajustar sus estrategias según sea necesario para navegar los mercados volátiles.\\n\\n**Activos mencionados para invertir:**\\n\\n1. Criptomonedas:\\n   - Bitcoin\\n   - XRP\\n   - Solana\\n\\n2. Acciones:\\n   - Dow Jones\\n   - S&P 500\\n   - Nasdaq\\n\\n3. Bonos:\\n   - Renta fija (bonos a 2 y 10 años)\\n   - Oro (futuros)'),\n",
       " Document(id='9e985e8b-171d-45c2-895b-90b459fc1722', metadata={'assets': \"['Bitcoin', 'Solana', 'SP500', 'Nasdaq', 'Oro']\", 'channelId': 'UC4DOPLw9NRRBFW4wYjcWxiA', 'channelTitle': 'Bitcoin hoy', 'duration': '17.0', 'kind': 'youtube#video', 'publishTime': '2025-04-07T17:01:45Z', 'publish_date': '2025-04-07', 'row': 0.0, 'source': 'https://www.youtube.com/watch?v=JjTr2n-lGsc', 'title': 'REBOTE POR COMPRAS O POR TOMA DE BENEFICIOS, 74600 SON LA CAUSA', 'videoId': 'JjTr2n-lGsc'}, page_content='title: REBOTE POR COMPRAS O POR TOMA DE BENEFICIOS, 74600 SON LA CAUSA\\nsummary: **Introducción:**\\nEl mercado financiero está experimentando una gran volatilidad, con movimientos significativos en las criptomonedas y la renta variable. Los inversores están buscando señales para tomar decisiones informadas sobre sus inversiones.\\n\\n**Puntos clave:**\\n\\n* El precio de Bitcoin ha alcanzado un punto de apoyo después de una caída.\\n* La negociación de Ethereum sigue siendo una señal de continuidad hacia los $1,332.\\n* XRP ha completado su primer objetivo para la semana en el mapa bajista y está apoyado en $0.185.\\n* El precio de Solana ha frenado en $95 después de alcanzar un punto de apoyo.\\n* La volatilidad del mercado de renta variable sigue siendo alta, con el VIX por encima de 30.\\n* Los inversores están buscando refugio en activos seguros, pero no necesariamente en el oro.\\n\\n**Conclusión:**\\nEl mercado financiero está experimentando una gran incertidumbre y volatilidad. Los inversores deben estar atentos a las señales de los mercados y ajustar sus estrategias según sea necesario. Es importante tener un enfoque informado y basado en análisis técnicos para tomar decisiones sobre inversiones.\\n\\n**Lista de activos mencionados:**\\n\\n1. Bitcoin\\n2. Ethereum\\n3. XRP\\n4. Solana\\n5. SP500\\n6. Nasdaq\\n7. Oro'),\n",
       " Document(id='d46e5f9a-f700-41c0-b46e-9c3d5e5985af', metadata={'assets': \"['Dinero', 'Oro', 'Bonos a 2 años', 'Bonos a 10 años', 'Acciones']\", 'channelId': 'UCWcFkWDnl9z8CRTuNWWlipw', 'channelTitle': 'Bolsas hoy | Esteban Pérez', 'duration': '7.0', 'kind': 'youtube#video', 'publishTime': '2025-04-07T12:01:20Z', 'publish_date': '2025-04-07', 'row': 2.0, 'source': 'https://www.youtube.com/watch?v=qXQQlx737lY', 'title': 'Impacto de los Aranceles y la Bolsa en los Planes de Pensiones', 'videoId': 'qXQQlx737lY'}, page_content='title: Impacto de los Aranceles y la Bolsa en los Planes de Pensiones\\nsummary: **Introducción:**\\nEl mercado financiero está experimentando un período de alta volatilidad debido a las tensiones geopolíticas y económicas, incluyendo el impacto de los aranceles y la situación en las bolsas. Esto ha llevado a fuertes caídas en los mercados bursátiles, como el Nikkei, que cerró con más de un 5% de caída, y el DAX, que cayó un 7%. En Estados Unidos, el SP500 y el Nasdaq también han experimentado significativas caídas. Estas caídas tienen implicaciones importantes para los planes de pensiones y las inversiones en general.\\n\\n**Puntos clave:**\\n- Fuertes caídas en los mercados bursátiles mundiales debido a tensiones geopolíticas y económicas.\\n- El impacto de los aranceles en el mercado financiero y la economía global.\\n- La búsqueda de refugios seguros para invertir, como el oro, que ha subido más de un 20% este año.\\n- Importancia de considerar las caídas del mercado como oportunidades potenciales para invertir a precios más bajos.\\n- Preocupación por los inversores que están perdiendo dinero y la necesidad de empatía y prudencia al comentar sobre estas situaciones.\\n\\n**Conclusión:**\\nEl actual escenario del mercado financiero, marcado por volatilidad y caídas en las bolsas, presenta tanto desafíos como oportunidades para los inversores. Es crucial mantener una perspectiva informada y empática, considerando tanto los riesgos como las posibles ganancias a largo plazo. La situación actual puede ofrecer momentos adecuados para invertir en activos que han experimentado caídas significativas, siempre con una estrategia bien pensada y una comprensión profunda del mercado.\\n\\n**Activos mencionados para invertir:**\\n1. Acciones\\n2. Oro\\n3. Bonos a 2 y 10 años\\n4. Divisas refugio (como el dólar estadounidense)\\n5. Activos de inversión alternativos (no especificados en el texto pero implícitos en la búsqueda de oportunidades de inversión)'),\n",
       " Document(id='3ffdb28c-74e8-43b0-a20c-f4c7dde21b5c', metadata={'assets': \"['Bitcoin', 'SP500']\", 'channelId': 'UCY8AYdix1el08AEFzzwS3Yg', 'channelTitle': 'USACRYPTONOTICIAS', 'duration': '111.0', 'kind': 'youtube#video', 'publishTime': '2025-04-07T16:02:32Z', 'publish_date': '2025-04-07', 'row': 4.0, 'source': 'https://www.youtube.com/watch?v=nki1kAa3ovU', 'title': 'VIENEN REBOTES EN BITCOIN, ALTCOINS, Y SP500? | BTC | CRYPTOS', 'videoId': 'nki1kAa3ovU'}, page_content='title: VIENEN REBOTES EN BITCOIN, ALTCOINS, Y SP500? | BTC | CRYPTOS\\nsummary: **Introducción:**\\nEl texto proporcionado parece ser una transcripción de un video o una grabación de audio en la que se discuten estrategias de inversión, análisis del mercado y eventos económicos. El hablante comparte sus opiniones sobre el mercado, los posibles movimientos de las acciones y cómo abordar las inversiones con una estrategia efectiva.\\n\\n**Puntos clave:**\\n- Se destaca la importancia de tener una estrategia de inversión para protegerse contra pérdidas y maximizar ganancias.\\n- El hablante menciona eventos económicos y noticias que pueden afectar el mercado, enfatizando la necesidad de adaptarse a estos cambios.\\n- Se hace hincapié en la disciplina y la paciencia como elementos clave para el éxito en las inversiones.\\n- El uso de herramientas como stops loss se presenta como una forma de mitigar riesgos.\\n- Se menciona específicamente el análisis de gráficos diarios del SP500 y de Bitcoin, destacando similitudes en los patrones de movimiento.\\n\\n**Conclusión:**\\nLa transcripción resalta la importancia de una estrategia sólida para navegar los mercados financieros, especialmente en tiempos de incertidumbre. Se promueve la idea de que, con disciplina y el uso adecuado de herramientas de gestión de riesgos, es posible lograr éxito en las inversiones a pesar de los desafíos presentes en el mercado.\\n\\n**Activos mencionados para invertir:**\\n1. SP500\\n2. Bitcoin\\n\\nNota: Los activos mencionados parecen ser los principales puntos de interés para el hablante, enfocándose en la estrategia y análisis técnico más que en una amplia gama de activos para invertir.')]"
      ]
     },
     "execution_count": 10,
     "metadata": {},
     "output_type": "execute_result"
    }
   ],
   "source": [
    "metadata_filter = {\"publish_date\": \"2025-04-07\"}#{\"channelTitle\":\"USACRYPTONOTICIAS\",\"publish_date\": \"2025-04-06\"}\n",
    "runner.document_loader.vector_store_manager.vectorstore.similarity_search(\"btc\", k=5, filter=metadata_filter)"
   ]
  }
 ],
 "metadata": {
  "kernelspec": {
   "display_name": ".venv",
   "language": "python",
   "name": "python3"
  },
  "language_info": {
   "codemirror_mode": {
    "name": "ipython",
    "version": 3
   },
   "file_extension": ".py",
   "mimetype": "text/x-python",
   "name": "python",
   "nbconvert_exporter": "python",
   "pygments_lexer": "ipython3",
   "version": "3.12.4"
  }
 },
 "nbformat": 4,
 "nbformat_minor": 2
}
