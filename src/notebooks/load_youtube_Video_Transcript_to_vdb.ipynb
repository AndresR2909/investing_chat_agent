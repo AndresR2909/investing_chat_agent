{
 "cells": [
  {
   "cell_type": "markdown",
   "metadata": {},
   "source": [
    "## YouTube Video Transcripts\n",
    "\n",
    "Este notebook actualiza la base de datos vectorial con las ultimas transcripciones de los videos de los canales seleccionados"
   ]
  },
  {
   "cell_type": "code",
   "execution_count": null,
   "metadata": {},
   "outputs": [
    {
     "name": "stdout",
     "output_type": "stream",
     "text": [
      "\u001b[33mWARNING: pinecone 6.0.2 does not provide the extra 'async'\u001b[0m\u001b[33m\n",
      "\u001b[0m"
     ]
    }
   ],
   "source": [
    "pip install -U langchain-openai youtube-transcript-api pytube isodate python-dotenv pandas pinecone langchain_pinecone langchain_ollama langchain_community -q"
   ]
  },
  {
   "cell_type": "code",
   "execution_count": 1,
   "metadata": {},
   "outputs": [],
   "source": [
    "import os\n",
    "import warnings\n",
    "import logging\n",
    "import pandas as pd\n",
    "from dotenv import load_dotenv\n",
    "\n",
    "\n",
    "warnings.filterwarnings(\"ignore\")\n",
    "logging.basicConfig(level=logging.INFO)\n",
    "\n",
    "load_dotenv()\n",
    "\n",
    "os.chdir('..')\n",
    "\n",
    "from app.extract_load_data.run import YoutubeLoaderRunner"
   ]
  },
  {
   "cell_type": "code",
   "execution_count": 2,
   "metadata": {},
   "outputs": [
    {
     "name": "stdout",
     "output_type": "stream",
     "text": [
      "\u001b[34mapp\u001b[m\u001b[m/       \u001b[34mdata\u001b[m\u001b[m/      \u001b[34mnotebooks\u001b[m\u001b[m/ \u001b[34mtests\u001b[m\u001b[m/\n"
     ]
    }
   ],
   "source": [
    "ls"
   ]
  },
  {
   "cell_type": "code",
   "execution_count": 3,
   "metadata": {},
   "outputs": [],
   "source": [
    "# escoger si vas a trabajar con un modelo local usando ollama  o con el api de openIA\n",
    "# llm_config = {\n",
    "#     \"type\": \"ollama\",\n",
    "#     \"model\":\"phi4:latest\",\n",
    "#     \"base_url\": \"http://localhost:11434\",\n",
    "# }\n",
    "\n",
    "llm_config = {\n",
    "    \"type\": \"openai\",\n",
    "    \"model\":\"gpt-4o-mini\",\n",
    "    \"temperature\":0,\n",
    "}\n"
   ]
  },
  {
   "cell_type": "code",
   "execution_count": 4,
   "metadata": {},
   "outputs": [
    {
     "name": "stderr",
     "output_type": "stream",
     "text": [
      "INFO:root:Ingesting data from Esteban Perez\n",
      "INFO:root:Se encontraron 1 videos\n",
      "INFO:root:Ingesting data from Bolsas hoy | Invierte y Crece\n",
      "INFO:root:Se encontraron 0 videos\n",
      "INFO:root:Ingesting data from ARENA ALFA\n",
      "INFO:root:Se encontraron 0 videos\n",
      "INFO:root:Ingesting data from USACRYPTONOTICIAS\n",
      "INFO:root:Se encontraron 0 videos\n",
      "INFO:httpx:HTTP Request: POST https://api.openai.com/v1/chat/completions \"HTTP/1.1 200 OK\"\n",
      "INFO:root:Summary generated for all videos\n",
      "INFO:httpx:HTTP Request: POST https://api.openai.com/v1/chat/completions \"HTTP/1.1 200 OK\"\n",
      "INFO:root:Assets extracted for all videos\n",
      "INFO:root:Loading data from data/pending/youtube_videos_2025-04-28.csv\n",
      "INFO:root:Loaded 1 documents\n",
      "INFO:root:Loaded 1 documents\n",
      "INFO:httpx:HTTP Request: POST https://api.openai.com/v1/embeddings \"HTTP/1.1 200 OK\"\n",
      "INFO:root:Added 1 documents\n",
      "INFO:root:Added 1 documents\n",
      "INFO:root:All documents added successfully\n",
      "INFO:root:Moved 1 documents to processed folder\n",
      "INFO:root:Moved 1 documents to processed folder\n"
     ]
    }
   ],
   "source": [
    "\n",
    "#configurar carga de datos de videos a base de datos vectorial Pinecone\n",
    "runner = YoutubeLoaderRunner(llm_config=llm_config)\n",
    "\n",
    "# cargar datos de los ultimos X dias\n",
    "runner.run(daysback=1)"
   ]
  },
  {
   "cell_type": "code",
   "execution_count": 8,
   "metadata": {},
   "outputs": [
    {
     "name": "stderr",
     "output_type": "stream",
     "text": [
      "INFO:httpx:HTTP Request: POST https://api.openai.com/v1/embeddings \"HTTP/1.1 200 OK\"\n"
     ]
    }
   ],
   "source": [
    "#buscar en la base de datos vectorial\n",
    "metadata_filter = {\"publish_date\": \"2025-04-24\",'channelTitle': 'Bitcoin hoy'}#{\"channelTitle\":\"USACRYPTONOTICIAS\",\"publish_date\": \"2025-04-06\"}\n",
    "documents = runner.document_loader.vector_store_manager.vectorstore.similarity_search(\"que va hacer bitcoin hoy\", k=5, filter=metadata_filter)"
   ]
  },
  {
   "cell_type": "code",
   "execution_count": 11,
   "metadata": {},
   "outputs": [
    {
     "name": "stdout",
     "output_type": "stream",
     "text": [
      "********************************************************************************************************************************************************************************************************\n",
      "Metadata\n",
      "{'assets': \"['Bitcoin', 'Ethereum', 'XRP', 'Solana', 'Oro', 'SP500', 'Nasdaq', 'Oxi', 'Dominos Pizza', 'Sirius XM']\", 'channelId': 'UC4DOPLw9NRRBFW4wYjcWxiA', 'channelTitle': 'Bitcoin hoy', 'duration': '25.0', 'kind': 'youtube#video', 'publishTime': '2025-04-24T06:55:51Z', 'publish_date': '2025-04-24', 'row': 1.0, 'source': 'https://www.youtube.com/watch?v=FvW5RFzl7WA', 'title': 'QUE HARÁ BITCOIN HOY Análisis técnico Acción del Precio', 'videoId': 'FvW5RFzl7WA'}\n",
      "********************************************************************************************************************************************************************************************************\n",
      "Content\n",
      "title: QUE HARÁ BITCOIN HOY Análisis técnico Acción del Precio\n",
      "summary: **Introducción:**\n",
      "El análisis técnico de Bitcoin y otros activos en el mercado de criptomonedas y acciones revela un contexto de toma de beneficios y niveles de precios clave. A medida que Bitcoin se encuentra en una fase de consolidación tras alcanzar su precio de apertura del año 2025, se discuten las estrategias de inversión y los niveles de riesgo asociados. Este informe resume los puntos más relevantes del análisis y proporciona una lista de activos mencionados para inversión.\n",
      "\n",
      "**Puntos más importantes:**\n",
      "\n",
      "- **Toma de Beneficios en Bitcoin:** Bitcoin cerró la jornada anterior en 93,347 y está experimentando una toma de beneficios. Se ha alcanzado el tercer objetivo en la serie diaria y el 25% de ganancias en la serie de 4 horas.\n",
      "  \n",
      "- **Niveles Clave:** Los niveles intradiarios a vigilar son 93,347, 92,095 y 91,855. La posibilidad de recuperación se sugiere si el precio se mantiene por encima de estos niveles.\n",
      "\n",
      "- **Interés Alcista:** A pesar de la toma de beneficios, hay un fuerte interés de compra, lo que sugiere que el precio podría seguir subiendo hacia el objetivo de largo plazo de 101,575.\n",
      "\n",
      "- **Gestión de Riesgo:** Es crucial que los inversores evalúen su tolerancia al riesgo y establezcan un plan de gestión de riesgos, especialmente al operar cerca de niveles de precios significativos.\n",
      "\n",
      "- **Otros Activos:** Se menciona el comportamiento de Ethereum, XRP y Solana, así como el análisis de acciones y índices de EE. UU., destacando oportunidades de compra en un contexto de correcciones del mercado.\n",
      "\n",
      "- **Oportunidades en el Mercado de Acciones:** Se discuten oportunidades de inversión en acciones como Dominos Pizza y Sirius XM, que están encontrando liquidez en niveles de precios atractivos.\n",
      "\n",
      "**Conclusión:**\n",
      "El análisis técnico de Bitcoin y otros activos sugiere un entorno de toma de beneficios, pero también presenta oportunidades de compra en niveles clave. La gestión del riesgo y la comprensión de los niveles de precios son fundamentales para los inversores. A medida que el mercado continúa evolucionando, se deben considerar las oportunidades en criptomonedas y acciones para maximizar el potencial de ganancias.\n",
      "\n",
      "**Activos mencionados para invertir:**\n",
      "1. Bitcoin (BTC)\n",
      "2. Ethereum (ETH)\n",
      "3. XRP\n",
      "4. Solana (SOL)\n",
      "5. Dominos Pizza\n",
      "6. Sirius XM\n",
      "7. Índices de EE. UU. (SP500, Nasdaq)\n",
      "8. Oro\n"
     ]
    }
   ],
   "source": [
    "for d in documents:\n",
    "    print(\"**\"*100)\n",
    "    print(\"Metadata\")\n",
    "    print(d.metadata)\n",
    "    print(\"**\"*100)\n",
    "    print(\"Content\")\n",
    "    print(d.page_content)"
   ]
  }
 ],
 "metadata": {
  "kernelspec": {
   "display_name": ".venv",
   "language": "python",
   "name": "python3"
  },
  "language_info": {
   "codemirror_mode": {
    "name": "ipython",
    "version": 3
   },
   "file_extension": ".py",
   "mimetype": "text/x-python",
   "name": "python",
   "nbconvert_exporter": "python",
   "pygments_lexer": "ipython3",
   "version": "3.12.4"
  }
 },
 "nbformat": 4,
 "nbformat_minor": 2
}
