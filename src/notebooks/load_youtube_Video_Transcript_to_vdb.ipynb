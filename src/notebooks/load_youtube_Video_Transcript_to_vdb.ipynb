{
 "cells": [
  {
   "cell_type": "markdown",
   "metadata": {},
   "source": [
    "## YouTube Video Transcripts"
   ]
  },
  {
   "cell_type": "code",
   "execution_count": null,
   "metadata": {},
   "outputs": [
    {
     "name": "stdout",
     "output_type": "stream",
     "text": [
      "\u001b[33mWARNING: pinecone 6.0.2 does not provide the extra 'async'\u001b[0m\u001b[33m\n",
      "\u001b[0m"
     ]
    }
   ],
   "source": [
    "pip install -U langchain-openai youtube-transcript-api pytube isodate python-dotenv pandas pinecone langchain_pinecone langchain_ollama langchain_community -q"
   ]
  },
  {
   "cell_type": "code",
   "execution_count": 1,
   "metadata": {},
   "outputs": [
    {
     "data": {
      "text/plain": [
       "True"
      ]
     },
     "execution_count": 1,
     "metadata": {},
     "output_type": "execute_result"
    }
   ],
   "source": [
    "import os\n",
    "import warnings\n",
    "import logging\n",
    "import pandas as pd\n",
    "from dotenv import load_dotenv\n",
    "\n",
    "\n",
    "warnings.filterwarnings(\"ignore\")\n",
    "\n",
    "load_dotenv()"
   ]
  },
  {
   "cell_type": "code",
   "execution_count": 2,
   "metadata": {},
   "outputs": [],
   "source": [
    "logging.basicConfig(level=logging.INFO)"
   ]
  },
  {
   "cell_type": "code",
   "execution_count": 3,
   "metadata": {},
   "outputs": [],
   "source": [
    "os.chdir('..') #('../..')\n"
   ]
  },
  {
   "cell_type": "code",
   "execution_count": 4,
   "metadata": {},
   "outputs": [
    {
     "name": "stdout",
     "output_type": "stream",
     "text": [
      "\u001b[34mapp\u001b[m\u001b[m/       \u001b[34mdata\u001b[m\u001b[m/      \u001b[34mnotebooks\u001b[m\u001b[m/\n"
     ]
    }
   ],
   "source": [
    "ls"
   ]
  },
  {
   "cell_type": "code",
   "execution_count": 5,
   "metadata": {},
   "outputs": [],
   "source": [
    "\n",
    "default_llm_config = {\n",
    "    \"type\": \"ollama\",\n",
    "    \"model\":\"gemma3:27b\",#\"hf.co/unsloth/Llama-3.3-70B-Instruct-GGUF:Q2_K\",#\"phi4:latest\",  #'phi4:latest'#'llama3.2:3b'#phi4:latest#gemma3:27b#\"qwq:latest\"\n",
    "    \"base_url\": \"http://localhost:11434\",\n",
    "}"
   ]
  },
  {
   "cell_type": "code",
   "execution_count": 7,
   "metadata": {},
   "outputs": [],
   "source": [
    "import pandas as pd\n",
    "from app.extract_load_data.run import YoutubeLoaderRunner\n"
   ]
  },
  {
   "cell_type": "code",
   "execution_count": 10,
   "metadata": {},
   "outputs": [],
   "source": [
    "runner = YoutubeLoaderRunner(llm_config=default_llm_config)"
   ]
  },
  {
   "cell_type": "code",
   "execution_count": 11,
   "metadata": {},
   "outputs": [
    {
     "name": "stderr",
     "output_type": "stream",
     "text": [
      "INFO:root:Ingesting data from Esteban Perez\n",
      "INFO:root:Se encontraron 13 videos\n",
      "ERROR:root:Error al obtener el transcript del video JGXqijMro2k: \n",
      "Could not retrieve a transcript for the video https://www.youtube.com/watch?v=JGXqijMro2k! This is most likely caused by:\n",
      "\n",
      "YouTube is blocking requests from your IP. This usually is due to one of the following reasons:\n",
      "- You have done too many requests and your IP has been blocked by YouTube\n",
      "- You are doing requests from an IP belonging to a cloud provider (like AWS, Google Cloud Platform, Azure, etc.). Unfortunately, most IPs from cloud providers are blocked by YouTube.\n",
      "\n",
      "There are two things you can do to work around this:\n",
      "1. Use proxies to hide your IP address, as explained in the \"Working around IP bans\" section of the README (https://github.com/jdepoix/youtube-transcript-api?tab=readme-ov-file#working-around-ip-bans-requestblocked-or-ipblocked-exception).\n",
      "2. (NOT RECOMMENDED) If you authenticate your requests using cookies, you will be able to continue doing requests for a while. However, YouTube will eventually permanently ban the account that you have used to authenticate with! So only do this if you don't mind your account being banned!\n",
      "\n",
      "If you are sure that the described cause is not responsible for this error and that a transcript should be retrievable, please create an issue at https://github.com/jdepoix/youtube-transcript-api/issues. Please add which version of youtube_transcript_api you are using and provide the information needed to replicate the error. Also make sure that there are no open issues which already describe your problem!\n",
      "INFO:root:Ingesting data from Bolsas hoy | Invierte y Crece\n",
      "INFO:root:Se encontraron 0 videos\n",
      "INFO:root:Ingesting data from ARENA ALFA\n",
      "INFO:root:Se encontraron 1 videos\n",
      "INFO:root:Ingesting data from USACRYPTONOTICIAS\n",
      "INFO:root:Se encontraron 11 videos\n",
      "INFO:httpx:HTTP Request: POST http://localhost:11434/api/chat \"HTTP/1.1 200 OK\"\n",
      "INFO:httpx:HTTP Request: POST http://localhost:11434/api/chat \"HTTP/1.1 200 OK\"\n",
      "INFO:httpx:HTTP Request: POST http://localhost:11434/api/chat \"HTTP/1.1 200 OK\"\n",
      "INFO:httpx:HTTP Request: POST http://localhost:11434/api/chat \"HTTP/1.1 200 OK\"\n",
      "INFO:httpx:HTTP Request: POST http://localhost:11434/api/chat \"HTTP/1.1 200 OK\"\n",
      "INFO:httpx:HTTP Request: POST http://localhost:11434/api/chat \"HTTP/1.1 200 OK\"\n",
      "INFO:httpx:HTTP Request: POST http://localhost:11434/api/chat \"HTTP/1.1 200 OK\"\n",
      "INFO:httpx:HTTP Request: POST http://localhost:11434/api/chat \"HTTP/1.1 200 OK\"\n",
      "INFO:httpx:HTTP Request: POST http://localhost:11434/api/chat \"HTTP/1.1 200 OK\"\n",
      "INFO:httpx:HTTP Request: POST http://localhost:11434/api/chat \"HTTP/1.1 200 OK\"\n",
      "INFO:httpx:HTTP Request: POST http://localhost:11434/api/chat \"HTTP/1.1 200 OK\"\n",
      "INFO:httpx:HTTP Request: POST http://localhost:11434/api/chat \"HTTP/1.1 200 OK\"\n",
      "INFO:httpx:HTTP Request: POST http://localhost:11434/api/chat \"HTTP/1.1 200 OK\"\n",
      "INFO:httpx:HTTP Request: POST http://localhost:11434/api/chat \"HTTP/1.1 200 OK\"\n",
      "INFO:httpx:HTTP Request: POST http://localhost:11434/api/chat \"HTTP/1.1 200 OK\"\n",
      "INFO:httpx:HTTP Request: POST http://localhost:11434/api/chat \"HTTP/1.1 200 OK\"\n",
      "INFO:httpx:HTTP Request: POST http://localhost:11434/api/chat \"HTTP/1.1 200 OK\"\n",
      "INFO:httpx:HTTP Request: POST http://localhost:11434/api/chat \"HTTP/1.1 200 OK\"\n",
      "INFO:httpx:HTTP Request: POST http://localhost:11434/api/chat \"HTTP/1.1 200 OK\"\n",
      "INFO:httpx:HTTP Request: POST http://localhost:11434/api/chat \"HTTP/1.1 200 OK\"\n",
      "INFO:httpx:HTTP Request: POST http://localhost:11434/api/chat \"HTTP/1.1 200 OK\"\n",
      "INFO:httpx:HTTP Request: POST http://localhost:11434/api/chat \"HTTP/1.1 200 OK\"\n",
      "INFO:httpx:HTTP Request: POST http://localhost:11434/api/chat \"HTTP/1.1 200 OK\"\n",
      "INFO:httpx:HTTP Request: POST http://localhost:11434/api/chat \"HTTP/1.1 200 OK\"\n",
      "INFO:root:Summary generated for all videos\n",
      "INFO:httpx:HTTP Request: POST http://localhost:11434/api/chat \"HTTP/1.1 200 OK\"\n",
      "INFO:httpx:HTTP Request: POST http://localhost:11434/api/chat \"HTTP/1.1 200 OK\"\n",
      "INFO:httpx:HTTP Request: POST http://localhost:11434/api/chat \"HTTP/1.1 200 OK\"\n",
      "WARNING:root:Attempt 1 failed for row 2: Failed to parse ExtractAssets from completion {\"activos_mencionados\": [\"Bitcoin\", \"Ethereum\", \"SP500\", \"Pfizer\", \"Nonate\", \"Exon M\\u00f3vil\"], \"tickers_activos\": {\"Bitcoin\": \"BTC\", \"Ethereum\": \"ETH\", \"SP500\": \"SPY\", \"Pfizer\": \"PFE\", \"Nonate\": null, \"Exon M\\u00f3vil\": \"XOM\"}}. Got: 1 validation error for ExtractAssets\n",
      "tickers_activos.Nonate\n",
      "  Input should be a valid string [type=string_type, input_value=None, input_type=NoneType]\n",
      "    For further information visit https://errors.pydantic.dev/2.11/v/string_type\n",
      "For troubleshooting, visit: https://python.langchain.com/docs/troubleshooting/errors/OUTPUT_PARSING_FAILURE \n",
      "INFO:httpx:HTTP Request: POST http://localhost:11434/api/chat \"HTTP/1.1 200 OK\"\n",
      "WARNING:root:Attempt 2 failed for row 2: Failed to parse ExtractAssets from completion {\"activos_mencionados\": [\"Bitcoin\", \"Ethereum\", \"SP500\", \"Pfizer\", \"Nonate\", \"Exon M\\u00f3vil\"], \"tickers_activos\": {\"Bitcoin\": \"BTC\", \"Ethereum\": \"ETH\", \"SP500\": \"SPY\", \"Pfizer\": \"PFE\", \"Nonate\": null, \"Exon M\\u00f3vil\": \"XOM\"}}. Got: 1 validation error for ExtractAssets\n",
      "tickers_activos.Nonate\n",
      "  Input should be a valid string [type=string_type, input_value=None, input_type=NoneType]\n",
      "    For further information visit https://errors.pydantic.dev/2.11/v/string_type\n",
      "For troubleshooting, visit: https://python.langchain.com/docs/troubleshooting/errors/OUTPUT_PARSING_FAILURE \n",
      "INFO:httpx:HTTP Request: POST http://localhost:11434/api/chat \"HTTP/1.1 200 OK\"\n",
      "ERROR:root:Failed to extract assets for row 2 after 3 attempts: Failed to parse ExtractAssets from completion {\"activos_mencionados\": [\"Bitcoin\", \"Ethereum\", \"SP500\", \"Pfizer\", \"Nonate\", \"Exon M\\u00f3vil\"], \"tickers_activos\": {\"Bitcoin\": \"BTC\", \"Ethereum\": \"ETH\", \"SP500\": \"SPY\", \"Pfizer\": \"PFE\", \"Nonate\": null, \"Exon M\\u00f3vil\": \"XOM\"}}. Got: 1 validation error for ExtractAssets\n",
      "tickers_activos.Nonate\n",
      "  Input should be a valid string [type=string_type, input_value=None, input_type=NoneType]\n",
      "    For further information visit https://errors.pydantic.dev/2.11/v/string_type\n",
      "For troubleshooting, visit: https://python.langchain.com/docs/troubleshooting/errors/OUTPUT_PARSING_FAILURE \n",
      "INFO:httpx:HTTP Request: POST http://localhost:11434/api/chat \"HTTP/1.1 200 OK\"\n",
      "INFO:httpx:HTTP Request: POST http://localhost:11434/api/chat \"HTTP/1.1 200 OK\"\n",
      "INFO:httpx:HTTP Request: POST http://localhost:11434/api/chat \"HTTP/1.1 200 OK\"\n",
      "INFO:httpx:HTTP Request: POST http://localhost:11434/api/chat \"HTTP/1.1 200 OK\"\n",
      "INFO:httpx:HTTP Request: POST http://localhost:11434/api/chat \"HTTP/1.1 200 OK\"\n",
      "INFO:httpx:HTTP Request: POST http://localhost:11434/api/chat \"HTTP/1.1 200 OK\"\n",
      "INFO:httpx:HTTP Request: POST http://localhost:11434/api/chat \"HTTP/1.1 200 OK\"\n",
      "WARNING:root:Attempt 1 failed for row 9: Failed to parse ExtractAssets from completion {\"activos_mencionados\": [\"Bitcoin\", \"Ethereum\", \"Solana\", \"XRP\", \"Bonos\", \"Oro\", \"BX\", \"SP500\", \"Nasdaq\", \"Dow Jones\"], \"tickers_activos\": {\"Bitcoin\": \"BTC\", \"Ethereum\": \"ETH\", \"Solana\": \"SOL\", \"XRP\": \"XRP\", \"Bonos\": null, \"Oro\": \"GOLD\", \"BX\": null, \"SP500\": \"SPX\", \"Nasdaq\": \"IXIC\", \"Dow Jones\": \"DJI\"}}. Got: 2 validation errors for ExtractAssets\n",
      "tickers_activos.Bonos\n",
      "  Input should be a valid string [type=string_type, input_value=None, input_type=NoneType]\n",
      "    For further information visit https://errors.pydantic.dev/2.11/v/string_type\n",
      "tickers_activos.BX\n",
      "  Input should be a valid string [type=string_type, input_value=None, input_type=NoneType]\n",
      "    For further information visit https://errors.pydantic.dev/2.11/v/string_type\n",
      "For troubleshooting, visit: https://python.langchain.com/docs/troubleshooting/errors/OUTPUT_PARSING_FAILURE \n",
      "INFO:httpx:HTTP Request: POST http://localhost:11434/api/chat \"HTTP/1.1 200 OK\"\n",
      "WARNING:root:Attempt 2 failed for row 9: Failed to parse ExtractAssets from completion {\"activos_mencionados\": [\"Bitcoin\", \"Ethereum\", \"Solana\", \"XRP\", \"Bonos\", \"Oro\", \"BX\", \"SP500\", \"Nasdaq\", \"Dow Jones\"], \"tickers_activos\": {\"Bitcoin\": \"BTC\", \"Ethereum\": \"ETH\", \"Solana\": \"SOL\", \"XRP\": \"XRP\", \"Bonos\": null, \"Oro\": \"GOLD\", \"BX\": null, \"SP500\": \"SPX\", \"Nasdaq\": \"IXIC\", \"Dow Jones\": \"DJI\"}}. Got: 2 validation errors for ExtractAssets\n",
      "tickers_activos.Bonos\n",
      "  Input should be a valid string [type=string_type, input_value=None, input_type=NoneType]\n",
      "    For further information visit https://errors.pydantic.dev/2.11/v/string_type\n",
      "tickers_activos.BX\n",
      "  Input should be a valid string [type=string_type, input_value=None, input_type=NoneType]\n",
      "    For further information visit https://errors.pydantic.dev/2.11/v/string_type\n",
      "For troubleshooting, visit: https://python.langchain.com/docs/troubleshooting/errors/OUTPUT_PARSING_FAILURE \n",
      "INFO:httpx:HTTP Request: POST http://localhost:11434/api/chat \"HTTP/1.1 200 OK\"\n",
      "ERROR:root:Failed to extract assets for row 9 after 3 attempts: Failed to parse ExtractAssets from completion {\"activos_mencionados\": [\"Bitcoin\", \"Ethereum\", \"Solana\", \"XRP\", \"Bonos\", \"Oro\", \"BX\", \"SP500\", \"Nasdaq\", \"Dow Jones\"], \"tickers_activos\": {\"Bitcoin\": \"BTC\", \"Ethereum\": \"ETH\", \"Solana\": \"SOL\", \"XRP\": \"XRP\", \"Bonos\": null, \"Oro\": \"GOLD\", \"BX\": null, \"SP500\": \"SPX\", \"Nasdaq\": \"IXIC\", \"Dow Jones\": \"DJI\"}}. Got: 2 validation errors for ExtractAssets\n",
      "tickers_activos.Bonos\n",
      "  Input should be a valid string [type=string_type, input_value=None, input_type=NoneType]\n",
      "    For further information visit https://errors.pydantic.dev/2.11/v/string_type\n",
      "tickers_activos.BX\n",
      "  Input should be a valid string [type=string_type, input_value=None, input_type=NoneType]\n",
      "    For further information visit https://errors.pydantic.dev/2.11/v/string_type\n",
      "For troubleshooting, visit: https://python.langchain.com/docs/troubleshooting/errors/OUTPUT_PARSING_FAILURE \n",
      "INFO:httpx:HTTP Request: POST http://localhost:11434/api/chat \"HTTP/1.1 200 OK\"\n",
      "INFO:httpx:HTTP Request: POST http://localhost:11434/api/chat \"HTTP/1.1 200 OK\"\n",
      "INFO:httpx:HTTP Request: POST http://localhost:11434/api/chat \"HTTP/1.1 200 OK\"\n",
      "WARNING:root:Attempt 1 failed for row 13: Failed to parse ExtractAssets from completion {\"activos_mencionados\": [\"D\\u00f3lar\", \"Plenti (billetera de d\\u00f3lares digitales)\", \"Monedas emergentes (en general)\", \"Euro\"], \"tickers_activos\": {\"D\\u00f3lar\": \"USD\", \"Plenti\": null, \"Euro\": \"EUR\"}}. Got: 1 validation error for ExtractAssets\n",
      "tickers_activos.Plenti\n",
      "  Input should be a valid string [type=string_type, input_value=None, input_type=NoneType]\n",
      "    For further information visit https://errors.pydantic.dev/2.11/v/string_type\n",
      "For troubleshooting, visit: https://python.langchain.com/docs/troubleshooting/errors/OUTPUT_PARSING_FAILURE \n",
      "INFO:httpx:HTTP Request: POST http://localhost:11434/api/chat \"HTTP/1.1 200 OK\"\n",
      "WARNING:root:Attempt 2 failed for row 13: Failed to parse ExtractAssets from completion {\"activos_mencionados\": [\"D\\u00f3lar\", \"Plenti (billetera de d\\u00f3lares digitales)\", \"Monedas emergentes (en general)\", \"Yuan\"], \"tickers_activos\": {\"D\\u00f3lar\": \"USD\", \"Plenti\": null, \"Yuan\": \"CNY\"}}. Got: 1 validation error for ExtractAssets\n",
      "tickers_activos.Plenti\n",
      "  Input should be a valid string [type=string_type, input_value=None, input_type=NoneType]\n",
      "    For further information visit https://errors.pydantic.dev/2.11/v/string_type\n",
      "For troubleshooting, visit: https://python.langchain.com/docs/troubleshooting/errors/OUTPUT_PARSING_FAILURE \n",
      "INFO:httpx:HTTP Request: POST http://localhost:11434/api/chat \"HTTP/1.1 200 OK\"\n",
      "ERROR:root:Failed to extract assets for row 13 after 3 attempts: Failed to parse ExtractAssets from completion {\"activos_mencionados\": [\"D\\u00f3lar\", \"Plenti (billetera de d\\u00f3lares digitales)\", \"Monedas emergentes (en general)\", \"Euro\"], \"tickers_activos\": {\"D\\u00f3lar\": \"USD\", \"Plenti\": null, \"Euro\": \"EUR\"}}. Got: 1 validation error for ExtractAssets\n",
      "tickers_activos.Plenti\n",
      "  Input should be a valid string [type=string_type, input_value=None, input_type=NoneType]\n",
      "    For further information visit https://errors.pydantic.dev/2.11/v/string_type\n",
      "For troubleshooting, visit: https://python.langchain.com/docs/troubleshooting/errors/OUTPUT_PARSING_FAILURE \n",
      "INFO:httpx:HTTP Request: POST http://localhost:11434/api/chat \"HTTP/1.1 200 OK\"\n",
      "INFO:httpx:HTTP Request: POST http://localhost:11434/api/chat \"HTTP/1.1 200 OK\"\n",
      "WARNING:root:Attempt 1 failed for row 15: Failed to parse ExtractAssets from completion {\"activos_mencionados\": [\"bolsa de valores\", \"monedas\", \"futuros\", \"spot\"], \"tickers_activos\": {\"bolsa de valores\": null, \"monedas\": null, \"futuros\": null, \"spot\": null}}. Got: 4 validation errors for ExtractAssets\n",
      "tickers_activos.bolsa de valores\n",
      "  Input should be a valid string [type=string_type, input_value=None, input_type=NoneType]\n",
      "    For further information visit https://errors.pydantic.dev/2.11/v/string_type\n",
      "tickers_activos.monedas\n",
      "  Input should be a valid string [type=string_type, input_value=None, input_type=NoneType]\n",
      "    For further information visit https://errors.pydantic.dev/2.11/v/string_type\n",
      "tickers_activos.futuros\n",
      "  Input should be a valid string [type=string_type, input_value=None, input_type=NoneType]\n",
      "    For further information visit https://errors.pydantic.dev/2.11/v/string_type\n",
      "tickers_activos.spot\n",
      "  Input should be a valid string [type=string_type, input_value=None, input_type=NoneType]\n",
      "    For further information visit https://errors.pydantic.dev/2.11/v/string_type\n",
      "For troubleshooting, visit: https://python.langchain.com/docs/troubleshooting/errors/OUTPUT_PARSING_FAILURE \n",
      "INFO:httpx:HTTP Request: POST http://localhost:11434/api/chat \"HTTP/1.1 200 OK\"\n",
      "WARNING:root:Attempt 2 failed for row 15: Failed to parse ExtractAssets from completion {\"activos_mencionados\": [\"acciones\", \"bolsa de valores\", \"futuros\", \"spot\", \"monedas\"], \"tickers_activos\": {\"acciones\": null, \"bolsa de valores\": null, \"futuros\": null, \"spot\": null, \"monedas\": null}}. Got: 5 validation errors for ExtractAssets\n",
      "tickers_activos.acciones\n",
      "  Input should be a valid string [type=string_type, input_value=None, input_type=NoneType]\n",
      "    For further information visit https://errors.pydantic.dev/2.11/v/string_type\n",
      "tickers_activos.bolsa de valores\n",
      "  Input should be a valid string [type=string_type, input_value=None, input_type=NoneType]\n",
      "    For further information visit https://errors.pydantic.dev/2.11/v/string_type\n",
      "tickers_activos.futuros\n",
      "  Input should be a valid string [type=string_type, input_value=None, input_type=NoneType]\n",
      "    For further information visit https://errors.pydantic.dev/2.11/v/string_type\n",
      "tickers_activos.spot\n",
      "  Input should be a valid string [type=string_type, input_value=None, input_type=NoneType]\n",
      "    For further information visit https://errors.pydantic.dev/2.11/v/string_type\n",
      "tickers_activos.monedas\n",
      "  Input should be a valid string [type=string_type, input_value=None, input_type=NoneType]\n",
      "    For further information visit https://errors.pydantic.dev/2.11/v/string_type\n",
      "For troubleshooting, visit: https://python.langchain.com/docs/troubleshooting/errors/OUTPUT_PARSING_FAILURE \n",
      "INFO:httpx:HTTP Request: POST http://localhost:11434/api/chat \"HTTP/1.1 200 OK\"\n",
      "ERROR:root:Failed to extract assets for row 15 after 3 attempts: Failed to parse ExtractAssets from completion {\"activos_mencionados\": [\"bolsa de valores\", \"monedas\"], \"tickers_activos\": {\"bolsa de valores\": null, \"monedas\": null}}. Got: 2 validation errors for ExtractAssets\n",
      "tickers_activos.bolsa de valores\n",
      "  Input should be a valid string [type=string_type, input_value=None, input_type=NoneType]\n",
      "    For further information visit https://errors.pydantic.dev/2.11/v/string_type\n",
      "tickers_activos.monedas\n",
      "  Input should be a valid string [type=string_type, input_value=None, input_type=NoneType]\n",
      "    For further information visit https://errors.pydantic.dev/2.11/v/string_type\n",
      "For troubleshooting, visit: https://python.langchain.com/docs/troubleshooting/errors/OUTPUT_PARSING_FAILURE \n",
      "INFO:httpx:HTTP Request: POST http://localhost:11434/api/chat \"HTTP/1.1 200 OK\"\n",
      "INFO:httpx:HTTP Request: POST http://localhost:11434/api/chat \"HTTP/1.1 200 OK\"\n",
      "INFO:httpx:HTTP Request: POST http://localhost:11434/api/chat \"HTTP/1.1 200 OK\"\n",
      "INFO:httpx:HTTP Request: POST http://localhost:11434/api/chat \"HTTP/1.1 200 OK\"\n",
      "INFO:httpx:HTTP Request: POST http://localhost:11434/api/chat \"HTTP/1.1 200 OK\"\n",
      "INFO:httpx:HTTP Request: POST http://localhost:11434/api/chat \"HTTP/1.1 200 OK\"\n",
      "INFO:httpx:HTTP Request: POST http://localhost:11434/api/chat \"HTTP/1.1 200 OK\"\n",
      "WARNING:root:Attempt 1 failed for row 22: Failed to parse ExtractAssets from completion {\"activos_mencionados\": [\"SP500\", \"mercado tradicional\", \"Amazon\"], \"tickers_activos\": {\"SP500\": \"SPY\", \"mercado tradicional\": null, \"Amazon\": \"AMZN\"}}. Got: 1 validation error for ExtractAssets\n",
      "tickers_activos.mercado tradicional\n",
      "  Input should be a valid string [type=string_type, input_value=None, input_type=NoneType]\n",
      "    For further information visit https://errors.pydantic.dev/2.11/v/string_type\n",
      "For troubleshooting, visit: https://python.langchain.com/docs/troubleshooting/errors/OUTPUT_PARSING_FAILURE \n",
      "INFO:httpx:HTTP Request: POST http://localhost:11434/api/chat \"HTTP/1.1 200 OK\"\n",
      "WARNING:root:Attempt 2 failed for row 22: Failed to parse ExtractAssets from completion {\"activos_mencionados\": [\"SP500\", \"mercado tradicional\", \"Amazon\"], \"tickers_activos\": {\"SP500\": \"SPY\", \"mercado tradicional\": null, \"Amazon\": \"AMZN\"}}. Got: 1 validation error for ExtractAssets\n",
      "tickers_activos.mercado tradicional\n",
      "  Input should be a valid string [type=string_type, input_value=None, input_type=NoneType]\n",
      "    For further information visit https://errors.pydantic.dev/2.11/v/string_type\n",
      "For troubleshooting, visit: https://python.langchain.com/docs/troubleshooting/errors/OUTPUT_PARSING_FAILURE \n",
      "INFO:httpx:HTTP Request: POST http://localhost:11434/api/chat \"HTTP/1.1 200 OK\"\n",
      "ERROR:root:Failed to extract assets for row 22 after 3 attempts: Failed to parse ExtractAssets from completion {\"activos_mencionados\": [\"SP500\", \"mercado tradicional\", \"Amazon\"], \"tickers_activos\": {\"SP500\": \"SPY\", \"mercado tradicional\": null, \"Amazon\": \"AMZN\"}}. Got: 1 validation error for ExtractAssets\n",
      "tickers_activos.mercado tradicional\n",
      "  Input should be a valid string [type=string_type, input_value=None, input_type=NoneType]\n",
      "    For further information visit https://errors.pydantic.dev/2.11/v/string_type\n",
      "For troubleshooting, visit: https://python.langchain.com/docs/troubleshooting/errors/OUTPUT_PARSING_FAILURE \n",
      "INFO:httpx:HTTP Request: POST http://localhost:11434/api/chat \"HTTP/1.1 200 OK\"\n",
      "WARNING:root:Attempt 1 failed for row 23: Failed to parse ExtractAssets from completion {\"activos_mencionados\": [\"BTC\", \"ETH\", \"Solana\", \"BNB\", \"Irius\"], \"tickers_activos\": {\"BTC\": \"BTC\", \"ETH\": \"ETH\", \"Solana\": \"SOL\", \"BNB\": \"BNB\", \"Irius\": null}}. Got: 1 validation error for ExtractAssets\n",
      "tickers_activos.Irius\n",
      "  Input should be a valid string [type=string_type, input_value=None, input_type=NoneType]\n",
      "    For further information visit https://errors.pydantic.dev/2.11/v/string_type\n",
      "For troubleshooting, visit: https://python.langchain.com/docs/troubleshooting/errors/OUTPUT_PARSING_FAILURE \n",
      "INFO:httpx:HTTP Request: POST http://localhost:11434/api/chat \"HTTP/1.1 200 OK\"\n",
      "WARNING:root:Attempt 2 failed for row 23: Failed to parse ExtractAssets from completion {\"activos_mencionados\": [\"BTC\", \"ETH\", \"Solana\", \"BNB\", \"Irius\"], \"tickers_activos\": {\"BTC\": \"BTC\", \"ETH\": \"ETH\", \"Solana\": \"SOL\", \"BNB\": \"BNB\", \"Irius\": null}}. Got: 1 validation error for ExtractAssets\n",
      "tickers_activos.Irius\n",
      "  Input should be a valid string [type=string_type, input_value=None, input_type=NoneType]\n",
      "    For further information visit https://errors.pydantic.dev/2.11/v/string_type\n",
      "For troubleshooting, visit: https://python.langchain.com/docs/troubleshooting/errors/OUTPUT_PARSING_FAILURE \n",
      "INFO:httpx:HTTP Request: POST http://localhost:11434/api/chat \"HTTP/1.1 200 OK\"\n",
      "ERROR:root:Failed to extract assets for row 23 after 3 attempts: Failed to parse ExtractAssets from completion {\"activos_mencionados\": [\"BTC\", \"ETH\", \"Solana\", \"BNB\", \"Irius\"], \"tickers_activos\": {\"BTC\": \"BTC\", \"ETH\": \"ETH\", \"Solana\": \"SOL\", \"BNB\": \"BNB\", \"Irius\": null}}. Got: 1 validation error for ExtractAssets\n",
      "tickers_activos.Irius\n",
      "  Input should be a valid string [type=string_type, input_value=None, input_type=NoneType]\n",
      "    For further information visit https://errors.pydantic.dev/2.11/v/string_type\n",
      "For troubleshooting, visit: https://python.langchain.com/docs/troubleshooting/errors/OUTPUT_PARSING_FAILURE \n",
      "INFO:httpx:HTTP Request: POST http://localhost:11434/api/chat \"HTTP/1.1 200 OK\"\n",
      "INFO:root:Assets extracted for all videos\n",
      "INFO:root:Loading data from data/pending/youtube_videos_2025-04-16.csv\n",
      "INFO:root:Loaded 24 documents\n",
      "INFO:root:Loaded 24 documents\n",
      "INFO:httpx:HTTP Request: POST http://localhost:11434/api/embed \"HTTP/1.1 200 OK\"\n",
      "INFO:root:Added 24 documents\n",
      "INFO:root:Added 24 documents\n",
      "INFO:root:All documents added successfully\n",
      "INFO:root:Moved 1 documents to processed folder\n",
      "INFO:root:Moved 1 documents to processed folder\n"
     ]
    }
   ],
   "source": [
    "runner.run(daysback=8)"
   ]
  },
  {
   "cell_type": "code",
   "execution_count": 13,
   "metadata": {},
   "outputs": [
    {
     "name": "stderr",
     "output_type": "stream",
     "text": [
      "INFO:httpx:HTTP Request: POST http://localhost:11434/api/embed \"HTTP/1.1 200 OK\"\n"
     ]
    },
    {
     "data": {
      "text/plain": [
       "[Document(id='065a47e6-3600-4efd-9168-7cbd1df774be', metadata={'assets': \"['Bitcoin', 'Eurodólar', 'Bonos', 'Oro', 'SP500', 'Nasdaq']\", 'channelId': 'UC4DOPLw9NRRBFW4wYjcWxiA', 'channelTitle': 'Bitcoin hoy', 'duration': '23.0', 'kind': 'youtube#video', 'publishTime': '2025-04-16T06:45:30Z', 'publish_date': '2025-04-16', 'row': 0.0, 'source': 'https://www.youtube.com/watch?v=7sFoTU4DfSo', 'title': 'QUE HARÁ BITCOIN HOY 16/04/25 08:00  | ESTEBAN PEREZ', 'videoId': '7sFoTU4DfSo'}, page_content='title: QUE HARÁ BITCOIN HOY 16/04/25 08:00  | ESTEBAN PEREZ\\nsummary: ## Resumen del Análisis de Mercado - Crecimiento Trader\\n\\n**Introducción:**\\n\\nEste análisis exhaustivo, presentado por Crecimiento Trader, ofrece una visión detallada del estado actual de los mercados financieros, abarcando criptomonedas (Bitcoin, Ethereum), índices bursátiles (SP500, Nasdaq), bonos, oro, y el par de divisas Euro/Dólar. El análisis se centra en identificar niveles clave de soporte y resistencia, patrones de comportamiento del mercado, y posibles escenarios futuros para la toma de decisiones de inversión. Se enfatiza la importancia de un análisis técnico sólido y la comprensión de las dinámicas macroeconómicas que influyen en los mercados.\\n\\n**Puntos Clave:**\\n\\n*   **Bitcoin (BTC):** Se observa cautela en Bitcoin, con niveles intradiarios importantes en $83,366 y un objetivo de mediano plazo en $4,12. La vela diaria roja indica una situación de alerta. Se recomienda precaución y evitar tomar posiciones agresivas si no se rompe la resistencia con una vela decisiva.\\n*   **Ethereum (ETH):** Se mencionan niveles intradiarios relevantes para Ethereum, aunque no se especifican valores concretos.\\n*   **Índices Bursátiles (SP500, Nasdaq):** El SP500 se encuentra apoyado en 5,358-59, mientras que el Nasdaq ha sido rechazado en 19,160 puntos. Se espera volatilidad debido a eventos económicos como las declaraciones de Powell y los datos de ventas minoristas.\\n*   **Bonos y Oro:** Se analizan los bonos y el oro como parte del panorama general del mercado, aunque no se profundiza en detalles específicos.\\n*   **Euro/Dólar (EUR/USD):** Se destaca la importancia de este par de divisas y su comportamiento en relación con el dólar. Se enfatiza que no existe una correlación directa entre el dólar y Bitcoin.\\n*   **Análisis Macroeconómico:** Se subraya la influencia de factores macroeconómicos como las políticas monetarias, los datos económicos y los eventos geopolíticos en los mercados financieros.\\n*   **Estrategia de Inversión:** Se recomienda un enfoque cauteloso y evitar tomar posiciones agresivas en momentos de incertidumbre. Se enfatiza la importancia de un análisis técnico sólido y la gestión del riesgo.\\n*   **Carteras de Inversión:** Se revisan las carteras de noviembre de 2024 (con un 4% de pérdidas) y 2023 (con ganancias).\\n\\n**Conclusión:**\\n\\nEl análisis presentado por Crecimiento Trader ofrece una visión completa y detallada del estado actual de los mercados financieros. Se enfatiza la importancia de un análisis técnico sólido, la comprensión de las dinámicas macroeconómicas y la gestión del riesgo para tomar decisiones de inversión informadas. Se recomienda un enfoque cauteloso y evitar tomar posiciones agresivas en momentos de incertidumbre.\\n\\n**Activos Mencionados para Invertir:**\\n\\n*   **Bitcoin (BTC)**\\n*   **Ethereum (ETH)**\\n*   **SP500 (Índice Bursátil)**\\n*   **Nasdaq (Índice Bursátil)**\\n*   **Bonos**\\n*   **Oro**\\n*   **Euro (EUR)**\\n*   **Dólar (USD)**')]"
      ]
     },
     "execution_count": 13,
     "metadata": {},
     "output_type": "execute_result"
    }
   ],
   "source": [
    "metadata_filter = {\"publish_date\": \"2025-04-16\"}#{\"channelTitle\":\"USACRYPTONOTICIAS\",\"publish_date\": \"2025-04-06\"}\n",
    "runner.document_loader.vector_store_manager.vectorstore.similarity_search(\"btc\", k=5, filter=metadata_filter)"
   ]
  }
 ],
 "metadata": {
  "kernelspec": {
   "display_name": ".venv",
   "language": "python",
   "name": "python3"
  },
  "language_info": {
   "codemirror_mode": {
    "name": "ipython",
    "version": 3
   },
   "file_extension": ".py",
   "mimetype": "text/x-python",
   "name": "python",
   "nbconvert_exporter": "python",
   "pygments_lexer": "ipython3",
   "version": "3.12.4"
  }
 },
 "nbformat": 4,
 "nbformat_minor": 2
}
