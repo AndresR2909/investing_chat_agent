{
 "cells": [
  {
   "cell_type": "code",
   "execution_count": 1,
   "id": "4cc6aeca",
   "metadata": {},
   "outputs": [
    {
     "data": {
      "text/plain": [
       "'2025-04-28'"
      ]
     },
     "execution_count": 1,
     "metadata": {},
     "output_type": "execute_result"
    }
   ],
   "source": [
    "from datetime import datetime\n",
    "fecha_valida = datetime.now().strftime('%Y-%m-%d')\n",
    "fecha_valida"
   ]
  },
  {
   "cell_type": "code",
   "execution_count": 2,
   "id": "b5aa22f4",
   "metadata": {},
   "outputs": [],
   "source": [
    "import os\n",
    "os.chdir(\"..\")"
   ]
  },
  {
   "cell_type": "code",
   "execution_count": 3,
   "id": "dcb57586",
   "metadata": {},
   "outputs": [
    {
     "name": "stdout",
     "output_type": "stream",
     "text": [
      "\u001b[34mapp\u001b[m\u001b[m/       \u001b[34mdata\u001b[m\u001b[m/      \u001b[34mnotebooks\u001b[m\u001b[m/ \u001b[34mtests\u001b[m\u001b[m/\n"
     ]
    }
   ],
   "source": [
    "ls"
   ]
  },
  {
   "cell_type": "code",
   "execution_count": 4,
   "id": "dd3f093e",
   "metadata": {},
   "outputs": [
    {
     "name": "stderr",
     "output_type": "stream",
     "text": [
      "/Users/andrestrepo/Documents/repos_personal/investing_chat_agent/.venv/lib/python3.12/site-packages/tqdm/auto.py:21: TqdmWarning: IProgress not found. Please update jupyter and ipywidgets. See https://ipywidgets.readthedocs.io/en/stable/user_install.html\n",
      "  from .autonotebook import tqdm as notebook_tqdm\n"
     ]
    }
   ],
   "source": [
    "from app.tools.custon_retrival_tool import buscar_documentos_fecha"
   ]
  },
  {
   "cell_type": "code",
   "execution_count": 8,
   "id": "f6d422cc",
   "metadata": {},
   "outputs": [
    {
     "name": "stdout",
     "output_type": "stream",
     "text": [
      "2025-04-28\n"
     ]
    },
    {
     "data": {
      "text/plain": [
       "['title: QUE HARÁ BITCOIN HOY Análisis técnico Acción del Precio Incluye Renta Variable\\nsummary: **Introducción:**\\nEl análisis técnico de Bitcoin y otros activos financieros para la semana del 28 de abril de 2025 revela un panorama mixto, con posibles movimientos alcistas y niveles clave a observar. Se discuten los objetivos de precios, patrones de acumulación y la influencia de la liquidez del mercado, así como la importancia de los datos macroeconómicos que se publicarán en los próximos días.\\n\\n**Puntos más importantes:**\\n\\n- **Situación de Bitcoin:**\\n  - Se observa un posible inicio de reversión desde los 101,575 hacia los 83,366, con dos cierres positivos recientes.\\n  - Dos escenarios: un aumento hacia nuevos objetivos de largo plazo o un retroceso en la zona de mediano plazo.\\n  - Objetivos semanales: 87,774 (primer objetivo), 91,895 (segundo) y 93,347 (tercero).\\n  - El eje central de operaciones se sitúa en 93,347, con un posible movimiento hacia 102,682.\\n\\n- **Análisis de la serie diaria:**\\n  - Se identifican niveles de soporte y resistencia, con un enfoque en los 96,016 como primer objetivo alcista.\\n  - La liquidez del mercado y la apertura de Wall Street serán cruciales para determinar la dirección del precio.\\n\\n- **Otros activos financieros:**\\n  - **Ethereum:** Primer objetivo en 1,890, con resistencia en 2,103.\\n  - **XRP:** Superación del máximo previo en 2,080, con objetivos en 2,490 y 2,590.\\n  - **Solana:** Objetivos en 165 y 170, con un enfoque en la superación de 132.\\n  - **Renta variable:** El euro/dólar y el oro muestran tendencias alcistas, con objetivos de 1,1214 y 3,493, respectivamente.\\n  - **SP500 y Nasdaq:** En fase correctiva, con niveles de resistencia en 5,630 y 19,160.\\n\\n- **Datos macroeconómicos:**\\n  - Se esperan informes de empleo y manufactura de alto impacto en los próximos días, que influirán en el mercado.\\n\\n**Conclusión:**\\nEl análisis técnico sugiere que Bitcoin y otros activos están en un momento crucial, con varios niveles de soporte y resistencia a observar. La liquidez del mercado y los datos macroeconómicos que se publicarán esta semana serán determinantes para el comportamiento de los precios. Los inversores deben estar atentos a estos factores para tomar decisiones informadas.\\n\\n**Activos mencionados para invertir:**\\n1. Bitcoin (BTC)\\n2. Ethereum (ETH)\\n3. XRP (XRP)\\n4. Solana (SOL)\\n5. Euro/Dólar (EUR/USD)\\n6. Oro (XAU/USD)\\n7. SP500\\n8. Nasdaq']"
      ]
     },
     "execution_count": 8,
     "metadata": {},
     "output_type": "execute_result"
    }
   ],
   "source": [
    "buscar_documentos_fecha(\"solana\",\"hoy\")"
   ]
  },
  {
   "cell_type": "code",
   "execution_count": 6,
   "id": "90605715",
   "metadata": {},
   "outputs": [
    {
     "name": "stdout",
     "output_type": "stream",
     "text": [
      "2025-04-21\n"
     ]
    },
    {
     "data": {
      "text/plain": [
       "['title: SUBIRÁ BITCOIN a 95K? LLEGÓ la ALTSEASON PART 75? | BTC | CRYPTOS\\nsummary: **Introducción:**\\nEl análisis de mercado presentado por Greg Quiroga en su canal \"USA Cryptonoticias\" se centra en la proyección del precio de Bitcoin (BTC) y la posible llegada a los $95,000, así como en la situación actual del mercado de criptomonedas y su relación con la economía global. Quiroga comparte su perspectiva sobre el movimiento alcista de BTC, la importancia de las entradas en el mercado y las implicaciones de la situación económica entre Estados Unidos y China.\\n\\n**Puntos más importantes:**\\n\\n- **Proyección de BTC:** Quiroga proyecta que Bitcoin alcanzará los $95,000, basándose en análisis técnico y patrones de ondas de Elliott. Considera que el movimiento actual es significativo y no un simple rebote.\\n\\n- **Onda B:** Se refiere a la \"onda B\" en el contexto de las ondas de Elliott, que indica un movimiento alcista después de una corrección. Quiroga enfatiza que los inversores deben estar montados en este movimiento.\\n\\n- **Entradas en el mercado:** Se aconseja a los inversores buscar entradas en gráficos de menor temporalidad (1 hora o 15 minutos) para aprovechar el movimiento alcista.\\n\\n- **Situación económica global:** Se discute la tensión entre Estados Unidos y China, y cómo esto podría afectar los mercados. Quiroga sugiere que la disputa arancelaria podría llevar a una recesión en EE. UU., lo que impactaría negativamente en el mercado.\\n\\n- **Altcoins y Altseason:** Se menciona que las altcoins están subiendo junto con BTC, pero no se está viendo una \"altseason\" tradicional, ya que BTC mantiene su dominancia.\\n\\n- **Recomendaciones de inversión:** Se sugiere mantener posiciones en BTC y buscar oportunidades en el mercado tradicional, como acciones de empresas sólidas.\\n\\n- **Patrocinadores y promociones:** Quiroga menciona varios exchanges y plataformas de trading que ofrecen beneficios y promociones para los usuarios.\\n\\n**Conclusión:**\\nEl análisis de Greg Quiroga proporciona una visión optimista sobre el futuro de Bitcoin y su potencial para alcanzar los $95,000. Sin embargo, también advierte sobre la incertidumbre económica global y la importancia de estar preparados para posibles correcciones. Los inversores deben ser estratégicos en sus entradas y salidas, aprovechando las oportunidades en el mercado de criptomonedas y en el mercado tradicional.\\n\\n**Activos mencionados para invertir:**\\n1. Bitcoin (BTC)\\n2. Ethereum (ETH)\\n3. Litecoin (LTC)\\n4. XRP\\n5. Solana (SOL)\\n6. Cardano (ADA)\\n7. Rune\\n8. Novo Nordisk (acciones)\\n9. Nvidia (acciones)\\n10. Apple (acciones)\\n11. Microsoft (acciones)\\n12. Meta (acciones)\\n13. Google (acciones)',\n",
       " 'title: QUE HARÁ BITCOIN HOY 21/04/25 08:00  | ESTEBAN PEREZ\\nsummary: **Introducción:**\\nEl análisis de Esteban Pérez sobre el comportamiento de Bitcoin para el 21 de abril de 2025, destaca un posible cambio de tendencia hacia un movimiento alcista tras un periodo correctivo. Se analizan niveles clave de precios y objetivos a corto y largo plazo, así como la importancia de la acción del precio en la toma de decisiones de trading.\\n\\n**Puntos más importantes:**\\n\\n- **Tendencia Actual:** Bitcoin se encuentra en una fase correctiva tras alcanzar un máximo de aproximadamente 109,000, pero se espera que esta fase sea seguida por un movimiento alcista.\\n  \\n- **Niveles Clave:** \\n  - Soportes importantes en 83,366 y 84,000, que han mostrado liquidez y son fundamentales para la continuidad del movimiento alcista.\\n  - Objetivos de precios a corto plazo: 89,164 (primer objetivo), 93,347 (apertura del año) y 96,687 (tercer objetivo).\\n\\n- **Análisis Semanal:** La ruptura de máximos previos y la entrada de liquidez son señales positivas que sugieren que el precio podría buscar niveles superiores durante la semana.\\n\\n- **Estrategia de Trading:** Se recomienda a los traders que estén atentos a los niveles de 83,000 y 84,000 para nuevas posiciones, así como a la acción del precio en intervalos de 4 horas y 5 minutos para operaciones intradía.\\n\\n- **Sentimiento del Mercado:** Se espera que el sentimiento del mercado se mantenga alcista, aunque se debe estar atento a la aparición de nuevas órdenes de compra y a la toma de beneficios en niveles clave.\\n\\n**Conclusión:**\\nEl análisis sugiere que Bitcoin podría estar en el umbral de un movimiento alcista significativo, siempre y cuando se mantengan los niveles de soporte y se continúe viendo liquidez en el mercado. Los traders deben estar preparados para aprovechar las oportunidades en función de la acción del precio y los niveles establecidos.\\n\\n**Activos mencionados para invertir:**\\n- Bitcoin (BTC)',\n",
       " 'title: ÉSTO ES SERIO...TENEMOS QUE HABLAR de MERCADOS | BTC | CRYPTOS\\nsummary: **Introducción:**\\nEl texto aborda la situación actual de los mercados financieros, centrándose en el impacto de las declaraciones de Donald Trump sobre la Reserva Federal y su presidente, Jerome Powell. Se discuten las proyecciones de precios para Bitcoin (BTC) y la estrategia de inversión en un entorno de incertidumbre económica. El autor enfatiza la importancia de actuar con prudencia y aprovechar las oportunidades que surgen en momentos de volatilidad.\\n\\n**Puntos más importantes:**\\n\\n- **Proyección de BTC:** Se menciona una proyección de BTC a 95,000 USD en gráfico semanal, con la recomendación de ajustar el stop loss para asegurar ganancias a medida que el precio sube.\\n  \\n- **Impacto de Trump en los mercados:** Las declaraciones de Trump sobre Powell y la presión para bajar las tasas de interés generan temor en los mercados, lo que podría llevar a una desaceleración económica.\\n\\n- **Reacción del mercado:** Se observa una caída en índices como el Dow Jones, S&P 500 y NASDAQ, mientras que el oro se dispara como refugio para los inversionistas.\\n\\n- **Estrategia de inversión:** Se aconseja a los inversionistas que compren en momentos de caída y que mantengan un enfoque a largo plazo, aprovechando las oportunidades que surgen en mercados en declive.\\n\\n- **Importancia de la protección de capital:** Se enfatiza la necesidad de proteger las inversiones mediante el uso de stop loss y la diversificación en activos.\\n\\n- **Oportunidades en el mercado tradicional:** Se sugiere que los mercados tradicionales están ofreciendo oportunidades de compra debido a la volatilidad actual, y se anima a los inversionistas a actuar con inteligencia.\\n\\n**Conclusión:**\\nEl análisis presentado destaca la importancia de estar atentos a las dinámicas del mercado y a las declaraciones políticas que pueden influir en la economía. Los inversionistas deben ser proactivos y estratégicos, ajustando sus posiciones y aprovechando las oportunidades que surgen en tiempos de incertidumbre. La clave está en proteger el capital y estar preparados para actuar cuando se presenten las condiciones adecuadas.\\n\\n**Activos mencionados para invertir:**\\n1. Bitcoin (BTC)\\n2. Dow Jones\\n3. S&P 500\\n4. NASDAQ\\n5. Oro\\n6. Alphabet (Google)\\n7. Amazon\\n8. Apple\\n9. Meta (Facebook)\\n10. Nvidia\\n11. ETF del S&P 500\\n12. Intel\\n13. Novo Nordisk\\n14. Pfizer',\n",
       " 'title: TRADERS EN CORTO PLAZO ACERCAN MUCHO EL PRECIO AL PRIMER OBJETIVO SEMANAL\\nsummary: **Introducción:**\\nEl análisis del mercado de criptomonedas, específicamente de Bitcoin y Ethereum, revela un enfoque en la proyección de precios y la toma de decisiones de trading a corto plazo. Se discuten los niveles clave de precios, patrones de negociación y la influencia de la liquidez en el mercado tras la apertura de Wall Street.\\n\\n**Puntos más importantes:**\\n\\n- **Objetivos Semanales:** Bitcoin busca alcanzar un primer objetivo semanal alcista en 89,164, con proyecciones de precios que incluyen niveles de 92,095, 95,628 y 102,692.\\n  \\n- **Análisis de Corto Plazo:** Se observa un movimiento a la baja de cinco fases en un marco temporal de 4 horas, seguido de una posible fase de recuperación. La negociación actual se centra en la fase inicial de un posible patrón alcista.\\n\\n- **Niveles Clave:** La zona de 88,000 es crucial para la continuación del movimiento alcista. Se han identificado niveles de soporte en 86,000 y 85,900.\\n\\n- **Toma de Beneficios:** Se ha notado una toma de beneficios significativa al alcanzar los niveles psicológicos, lo que puede afectar la dirección futura del precio.\\n\\n- **Ethereum:** Se menciona una corrección en Ethereum, con un nivel de soporte en 1,580, y se espera que el precio intente romper un canal bajista.\\n\\n- **Contexto Fundamental:** La reunión del FMI y comentarios sobre la Reserva Federal han influido en el mercado, con Bitcoin mostrando un aumento del 3% en su valor.\\n\\n**Conclusión:**\\nEl análisis técnico de Bitcoin y Ethereum sugiere un enfoque cauteloso en la negociación a corto plazo, con atención a los niveles clave de precios y patrones de acumulación. La toma de beneficios y la liquidez del mercado son factores determinantes en la dirección futura de los precios. Se recomienda seguir monitoreando estos activos para ajustar las estrategias de inversión.\\n\\n**Activos mencionados para invertir:**\\n1. Bitcoin (BTC)\\n2. Ethereum (ETH)',\n",
       " 'title: QUÉ HARÁN LAS BOLSAS HOY?\\nsummary: **Introducción:**\\nEl análisis del mercado de valores se centra en la apertura de las bolsas estadounidenses tras la Semana Santa, mientras que las europeas permanecen cerradas. Se examinan las condiciones actuales del SP500 y el Nasdaq, así como la volatilidad del mercado y las expectativas macroeconómicas. La atención se dirige a la reunión del FMI y a la situación de los activos, incluyendo acciones, oro y bonos.\\n\\n**Puntos más importantes:**\\n\\n- **Apertura de Mercados:** Las bolsas estadounidenses abrirán hoy, mientras que las europeas siguen cerradas. Se espera que la situación se reanude mañana con el DAX, Ibex y Eurostoxx.\\n  \\n- **Volatilidad del SP500:** La volatilidad inversa del SP500 se mantiene por encima de 27, indicando desconfianza en el mercado, pero por debajo del nivel crítico de 30.\\n\\n- **Objetivos del SP500:** Se identifican niveles clave de soporte y resistencia en el SP500, con un objetivo de largo plazo en 6,160 puntos y un soporte inmediato en 5,273 puntos.\\n\\n- **Corrección en Tecnológicas:** Las acciones tecnológicas están en una fase correctiva, con un objetivo a la baja en 16,767 puntos y un nivel psicológico en 16,000 puntos.\\n\\n- **Refugio en Oro:** El dinero se está refugiando en el oro, alcanzando un objetivo de 3,493, lo que indica un cambio en la preferencia de los inversores hacia activos más seguros.\\n\\n- **Bonos de EE.UU.:** La rentabilidad de los bonos a 2 y 10 años muestra una estabilización tras la reciente volatilidad, lo que sugiere un interés en la renta fija.\\n\\n- **Cartera de Inversión:** Se mantiene una cartera defensiva con ganancias del 24% desde su inicio, destacando la importancia de mantener la calma y centrarse en los precios a largo plazo.\\n\\n**Conclusión:**\\nEl mercado enfrenta una fase de corrección, especialmente en el sector tecnológico, mientras que los inversores buscan refugio en activos más seguros como el oro y los bonos. La atención se centra en la reunión del FMI y en la evolución de los índices bursátiles, con un enfoque en mantener una estrategia de inversión a largo plazo.\\n\\n**Activos mencionados para invertir:**\\n1. SP500\\n2. Nasdaq\\n3. Oro\\n4. Bonos de EE.UU. (2 y 10 años)\\n5. Acciones defensivas (ej. Pfizer)']"
      ]
     },
     "execution_count": 6,
     "metadata": {},
     "output_type": "execute_result"
    }
   ],
   "source": [
    "buscar_documentos_fecha(\"precio btc\",\"2025-04-21\")"
   ]
  }
 ],
 "metadata": {
  "kernelspec": {
   "display_name": ".venv",
   "language": "python",
   "name": "python3"
  },
  "language_info": {
   "codemirror_mode": {
    "name": "ipython",
    "version": 3
   },
   "file_extension": ".py",
   "mimetype": "text/x-python",
   "name": "python",
   "nbconvert_exporter": "python",
   "pygments_lexer": "ipython3",
   "version": "3.12.4"
  }
 },
 "nbformat": 4,
 "nbformat_minor": 5
}
