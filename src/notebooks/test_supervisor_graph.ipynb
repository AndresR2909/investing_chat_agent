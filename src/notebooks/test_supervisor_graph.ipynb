{
 "cells": [
  {
   "cell_type": "code",
   "execution_count": 2,
   "metadata": {},
   "outputs": [],
   "source": [
    "import os\n",
    "os.chdir(\"..\")"
   ]
  },
  {
   "cell_type": "code",
   "execution_count": 3,
   "metadata": {},
   "outputs": [
    {
     "name": "stdout",
     "output_type": "stream",
     "text": [
      "\u001b[34mapp\u001b[m\u001b[m/       \u001b[34mdata\u001b[m\u001b[m/      \u001b[34mnotebooks\u001b[m\u001b[m/\n"
     ]
    }
   ],
   "source": [
    "ls"
   ]
  },
  {
   "cell_type": "code",
   "execution_count": 2,
   "metadata": {},
   "outputs": [],
   "source": [
    "#!pip install --upgrade pydantic"
   ]
  },
  {
   "cell_type": "code",
   "execution_count": 5,
   "metadata": {},
   "outputs": [
    {
     "name": "stderr",
     "output_type": "stream",
     "text": [
      "USER_AGENT environment variable not set, consider setting it to identify your requests.\n"
     ]
    },
    {
     "name": "stdout",
     "output_type": "stream",
     "text": [
      "Ruta actual: /Users/andrestrepo/Documents/repos_personal/investing_chat_agent/src\n"
     ]
    }
   ],
   "source": [
    "from app.chat.supervisor_graph import graph"
   ]
  },
  {
   "cell_type": "code",
   "execution_count": 6,
   "metadata": {},
   "outputs": [
    {
     "data": {
      "image/png": "[encoded data removed]",
      "text/plain": [
       "<IPython.core.display.Image object>"
      ]
     },
     "metadata": {},
     "output_type": "display_data"
    }
   ],
   "source": [
    "from IPython.display import display, Image\n",
    "\n",
    "display(Image(graph.get_graph().draw_mermaid_png()))"
   ]
  },
  {
   "cell_type": "code",
   "execution_count": 7,
   "metadata": {},
   "outputs": [
    {
     "name": "stdout",
     "output_type": "stream",
     "text": [
      "((), {'supervisor': {'next': 'risk_evaluator'}})\n",
      "----\n",
      "(('risk_evaluator:6533da5c-4588-7f55-1eea-c0d0164e7cbd',), {'agent': {'messages': [AIMessage(content='', additional_kwargs={'tool_calls': [{'id': 'call_SYSHFOUKcFYXsnua6WVmhGxZ', 'function': {'arguments': '{\"risk_profile\":\"bajo\"}', 'name': 'optimize_portfolio_kde_cvar'}, 'type': 'function'}], 'refusal': None}, response_metadata={'token_usage': {'completion_tokens': 22, 'prompt_tokens': 166, 'total_tokens': 188, 'completion_tokens_details': {'accepted_prediction_tokens': 0, 'audio_tokens': 0, 'reasoning_tokens': 0, 'rejected_prediction_tokens': 0}, 'prompt_tokens_details': {'audio_tokens': 0, 'cached_tokens': 0}}, 'model_name': 'gpt-4o-mini-2024-07-18', 'system_fingerprint': 'fp_0392822090', 'id': 'chatcmpl-BQR5iZCA4NiSN6pVNKw4jh8zIGRui', 'finish_reason': 'tool_calls', 'logprobs': None}, id='run-35cfaac8-c7b6-4a12-aa2c-b9991efffa74-0', tool_calls=[{'name': 'optimize_portfolio_kde_cvar', 'args': {'risk_profile': 'bajo'}, 'id': 'call_SYSHFOUKcFYXsnua6WVmhGxZ', 'type': 'tool_call'}], usage_metadata={'input_tokens': 166, 'output_tokens': 22, 'total_tokens': 188, 'input_token_details': {'audio': 0, 'cache_read': 0}, 'output_token_details': {'audio': 0, 'reasoning': 0}})]}})\n",
      "----\n",
      "YF.download() has changed argument auto_adjust default to True\n"
     ]
    },
    {
     "name": "stderr",
     "output_type": "stream",
     "text": [
      "[*********************100%***********************]  10 of 10 completed\n"
     ]
    },
    {
     "name": "stdout",
     "output_type": "stream",
     "text": [
      "(('risk_evaluator:6533da5c-4588-7f55-1eea-c0d0164e7cbd',), {'tools': {'messages': [ToolMessage(content='(array([1.40371776e-01, 2.19060949e-19, 1.48274517e-02, 3.81038042e-01,\\n       9.71611179e-20, 3.60493676e-17, 6.41084901e-18, 2.60028951e-01,\\n       1.67407223e-01, 3.63265554e-02]), np.float64(-0.011912157856798607))', name='optimize_portfolio_kde_cvar', id='e76ec78d-8d53-4ec7-8c62-9b41f9d249d0', tool_call_id='call_SYSHFOUKcFYXsnua6WVmhGxZ')]}})\n",
      "----\n",
      "(('risk_evaluator:6533da5c-4588-7f55-1eea-c0d0164e7cbd',), {'agent': {'messages': [AIMessage(content='He calculado tu portafolio de inversión según un perfil de riesgo bajo:\\n\\n- **Pesos óptimos para cada acción**:\\n  - Acción 1: 14.04%\\n  - Acción 2: 0%\\n  - Acción 3: 1.48%\\n  - Acción 4: 38.10%\\n  - Acción 5: 0%\\n  - Acción 6: 0%\\n  - Acción 7: 0%\\n  - Acción 8: 26.00%\\n  - Acción 9: 16.74%\\n  - Acción 10: 3.63%\\n\\n- **Retorno esperado del portafolio**: -1.19%\\n\\nSi tienes alguna otra consulta o necesitas más detalles, no dudes en pedírmelo.', additional_kwargs={'refusal': None}, response_metadata={'token_usage': {'completion_tokens': 165, 'prompt_tokens': 317, 'total_tokens': 482, 'completion_tokens_details': {'accepted_prediction_tokens': 0, 'audio_tokens': 0, 'reasoning_tokens': 0, 'rejected_prediction_tokens': 0}, 'prompt_tokens_details': {'audio_tokens': 0, 'cached_tokens': 0}}, 'model_name': 'gpt-4o-mini-2024-07-18', 'system_fingerprint': 'fp_0392822090', 'id': 'chatcmpl-BQR74Uz5QFcfczRXu2RQNvZXOlE4C', 'finish_reason': 'stop', 'logprobs': None}, id='run-0c2a1c9a-ffac-4049-8b1f-aee79060db25-0', usage_metadata={'input_tokens': 317, 'output_tokens': 165, 'total_tokens': 482, 'input_token_details': {'audio': 0, 'cache_read': 0}, 'output_token_details': {'audio': 0, 'reasoning': 0}})]}})\n",
      "----\n",
      "((), {'risk_evaluator': {'messages': [HumanMessage(content='He calculado tu portafolio de inversión según un perfil de riesgo bajo:\\n\\n- **Pesos óptimos para cada acción**:\\n  - Acción 1: 14.04%\\n  - Acción 2: 0%\\n  - Acción 3: 1.48%\\n  - Acción 4: 38.10%\\n  - Acción 5: 0%\\n  - Acción 6: 0%\\n  - Acción 7: 0%\\n  - Acción 8: 26.00%\\n  - Acción 9: 16.74%\\n  - Acción 10: 3.63%\\n\\n- **Retorno esperado del portafolio**: -1.19%\\n\\nSi tienes alguna otra consulta o necesitas más detalles, no dudes en pedírmelo.', additional_kwargs={}, response_metadata={}, name='risk_evaluator')]}})\n",
      "----\n",
      "((), {'supervisor': {'next': '__end__'}})\n",
      "----\n"
     ]
    }
   ],
   "source": [
    "for s in graph.stream(\n",
    "    {\"messages\": [(\"user\", \"soy inversor de riego bajo puedes calcular mi portafolio de inversion\")]}, subgraphs=True\n",
    "):\n",
    "    print(s)\n",
    "    print(\"----\")"
   ]
  },
  {
   "cell_type": "code",
   "execution_count": 10,
   "metadata": {},
   "outputs": [
    {
     "name": "stdout",
     "output_type": "stream",
     "text": [
      "{'supervisor': {'next': 'finance_news_searcher'}}\n",
      "----\n",
      "{'finance_news_searcher': {'messages': [HumanMessage(content='Aquí tienes un resumen de las noticias recientes sobre Bitcoin (BTC-USD):\\n\\n1. **Rally de Bitcoin**: Bitcoin ha extendido su rally y ha alcanzado niveles superiores a $95,000, lo que refleja el interés de los inversores en medio de incertidumbres macroeconómicas. Este aumento también ha influido positivamente en otras acciones relacionadas con criptomonedas, como Coinbase y Marathon Digital.\\n\\n2. **Tendencias en el mercado**: En un análisis, se mencionó que a pesar de las dificultades en otros sectores, Bitcoin sigue mostrando fuerza en el mercado, lo que ha llevado a un aumento en el valor de otras acciones relacionadas con criptomonedas.\\n\\nEstas noticias indican un momento positivo para Bitcoin, destacando su relevancia en el escenario financiero actual.', additional_kwargs={}, response_metadata={}, name='finance_news_searcher', id='4049e56d-098f-4a24-ba56-f72a49f976df')]}}\n",
      "----\n",
      "{'supervisor': {'next': 'risk_evaluator'}}\n",
      "----\n",
      "{'risk_evaluator': {'messages': [HumanMessage(content='Parece que Bitcoin (BTC-USD) ha estado en una racha positiva, alcanzando niveles superiores a $95,000, impulsado por un renovado interés de los inversores en medio de las incertidumbres macroeconómicas. Además, este aumento ha tenido un efecto favorable en otras acciones del sector de criptomonedas, como Coinbase y Marathon Digital. En general, a pesar de los desafíos en otros sectores, Bitcoin continúa mostrando fortaleza en el mercado.', additional_kwargs={}, response_metadata={}, name='risk_evaluator', id='5f4f6c4f-d7b4-4236-a94e-0ba7ee0b07c6')]}}\n",
      "----\n",
      "{'supervisor': {'next': '__end__'}}\n",
      "----\n"
     ]
    }
   ],
   "source": [
    "for s in graph.stream(\n",
    "    {\"messages\": [(\"user\", \"que noticias hay de BTC-USD\")]}, subgraphs=False\n",
    "):\n",
    "    print(s)\n",
    "    print(\"----\")"
   ]
  }
 ],
 "metadata": {
  "kernelspec": {
   "display_name": ".venv",
   "language": "python",
   "name": "python3"
  },
  "language_info": {
   "codemirror_mode": {
    "name": "ipython",
    "version": 3
   },
   "file_extension": ".py",
   "mimetype": "text/x-python",
   "name": "python",
   "nbconvert_exporter": "python",
   "pygments_lexer": "ipython3",
   "version": "3.12.4"
  }
 },
 "nbformat": 4,
 "nbformat_minor": 2
}
