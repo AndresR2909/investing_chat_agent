{
 "cells": [
  {
   "cell_type": "code",
   "execution_count": 27,
   "metadata": {},
   "outputs": [],
   "source": [
    "import numpy as np\n",
    "import pandas as pd\n",
    "import yfinance as yf\n",
    "from scipy.stats import gaussian_kde\n",
    "from scipy.optimize import minimize"
   ]
  },
  {
   "cell_type": "code",
   "execution_count": 30,
   "metadata": {},
   "outputs": [],
   "source": [
    "def optimize_portfolio_kde_cvar(tickers, start_date, end_date,  risk_profile='medio'):\n",
    "    \"\"\"\n",
    "    Optimiza un portafolio según el perfil de riesgo.\n",
    "    \n",
    "    Args:\n",
    "    - tickers: Lista de símbolos de las acciones.\n",
    "    - start_date: Fecha de inicio para descargar datos.\n",
    "    - end_date: Fecha de fin para descargar datos.\n",
    "    - risk_profile: Perfil de riesgo ('bajo', 'medio', 'alto').\n",
    "    \n",
    "    Returns:\n",
    "    - optimal_weights: Pesos óptimos para cada acción.\n",
    "    - portfolio_return: Retorno esperado del portafolio.\n",
    "    - portfolio_var: VaR del portafolio.\n",
    "    \"\"\"\n",
    "    # Ajustar el nivel de confianza según el perfil de riesgo\n",
    "    if risk_profile == 'bajo':\n",
    "        confidence_level = 0.95\n",
    "    elif risk_profile == 'medio':\n",
    "        confidence_level = 0.90\n",
    "    elif risk_profile == 'alto':\n",
    "        confidence_level = 0.85\n",
    "    else:\n",
    "        confidence_level = 0.95  # valor por defecto\n",
    "\n",
    "    # Descargar datos de Yahoo Finance\n",
    "    data = yf.download(tickers, start=start_date, end=end_date)['Close']\n",
    "    returns = np.log(data / data.shift(1)).dropna()\n",
    "    n_assets = len(tickers)\n",
    "\n",
    "    def calculate_cvar(weights):\n",
    "        portfolio_returns = np.dot(returns, weights)\n",
    "        kde = gaussian_kde(portfolio_returns)\n",
    "        x = np.linspace(portfolio_returns.min(), portfolio_returns.max(), 1000)\n",
    "        kde_values = kde(x)\n",
    "        cumulative_values = np.cumsum(kde_values) / np.sum(kde_values)\n",
    "        var_index = np.where(cumulative_values >= (1 - confidence_level))[0][0]\n",
    "        var_value = x[var_index]\n",
    "        cvar_estimation = np.mean(portfolio_returns[portfolio_returns <= var_value])\n",
    "        return -cvar_estimation\n",
    "\n",
    "    constraints = ({'type': 'eq', 'fun': lambda x: np.sum(x) - 1})\n",
    "    bounds = tuple((0, 1) for asset in range(n_assets))\n",
    "    initial_weights = np.ones(n_assets) / n_assets\n",
    "\n",
    "    result = minimize(calculate_cvar, initial_weights, method='SLSQP', bounds=bounds, constraints=constraints)\n",
    "    optimal_weights = result.x\n",
    "    cvar_value = calculate_cvar(optimal_weights)\n",
    "\n",
    "    return optimal_weights, -cvar_value"
   ]
  },
  {
   "cell_type": "code",
   "execution_count": 31,
   "metadata": {},
   "outputs": [
    {
     "name": "stderr",
     "output_type": "stream",
     "text": [
      "[*********************100%***********************]  10 of 10 completed"
     ]
    },
    {
     "name": "stdout",
     "output_type": "stream",
     "text": [
      "Pesos óptimos: [2.14616289e-17 6.26917383e-18 5.68660256e-03 7.18654570e-01\n",
      " 8.38799786e-18 3.15024491e-19 3.02759962e-17 2.42636811e-01\n",
      " 3.30220155e-02 2.80947559e-19]\n",
      "CVaR del portafolio: -0.0140\n"
     ]
    },
    {
     "name": "stderr",
     "output_type": "stream",
     "text": [
      "\n"
     ]
    }
   ],
   "source": [
    "# Uso del ejemplo\n",
    "tickers = ['AAPL', 'MSFT', 'GOOGL', 'AMZN', 'TSLA','BTC-USD','^GSPC','^DJI','^IXIC','GC=F']\n",
    "start_date = '2022-01-01'\n",
    "end_date = '2023-01-01'\n",
    "\n",
    "optimal_weights, portfolio_cvar = optimize_portfolio_kde_cvar(tickers, start_date, end_date, risk_profile='medio')\n",
    "\n",
    "print(\"Pesos óptimos:\", optimal_weights)\n",
    "print(f\"CVaR del portafolio: {portfolio_cvar:.4f}\")"
   ]
  },
  {
   "cell_type": "code",
   "execution_count": 32,
   "metadata": {},
   "outputs": [
    {
     "name": "stdout",
     "output_type": "stream",
     "text": [
      "Pérdida esperada en el peor 5% de los casos: $-14.03\n",
      "Invertir $0.00 en AAPL\n",
      "Invertir $0.00 en MSFT\n",
      "Invertir $5.69 en GOOGL\n",
      "Invertir $718.65 en AMZN\n",
      "Invertir $0.00 en TSLA\n",
      "Invertir $0.00 en BTC-USD\n",
      "Invertir $0.00 en ^GSPC\n",
      "Invertir $242.64 en ^DJI\n",
      "Invertir $33.02 en ^IXIC\n",
      "Invertir $0.00 en GC=F\n"
     ]
    }
   ],
   "source": [
    "inversion = 1000  # dólares\n",
    "cvar_dinero = portfolio_cvar * inversion\n",
    "print(f\"Pérdida esperada en el peor 5% de los casos: ${cvar_dinero:.2f}\")\n",
    "\n",
    "inversion_por_activo = optimal_weights * inversion\n",
    "for ticker, monto in zip(tickers, inversion_por_activo):\n",
    "    print(f\"Invertir ${monto:.2f} en {ticker}\")"
   ]
  }
 ],
 "metadata": {
  "kernelspec": {
   "display_name": ".venv",
   "language": "python",
   "name": "python3"
  },
  "language_info": {
   "codemirror_mode": {
    "name": "ipython",
    "version": 3
   },
   "file_extension": ".py",
   "mimetype": "text/x-python",
   "name": "python",
   "nbconvert_exporter": "python",
   "pygments_lexer": "ipython3",
   "version": "3.12.4"
  }
 },
 "nbformat": 4,
 "nbformat_minor": 2
}
